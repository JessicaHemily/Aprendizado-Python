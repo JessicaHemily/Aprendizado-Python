{
 "cells": [
  {
   "cell_type": "markdown",
   "id": "013acbe6",
   "metadata": {},
   "source": [
    "O python intende o inicio e fim de uma estrutura condicional pela tabulação.\n",
    "\n",
    "if variavel:\n",
    "\n",
    "    bloco True\n",
    "    \n",
    "else:\n",
    "\n",
    "    bloco False"
   ]
  },
  {
   "cell_type": "code",
   "execution_count": 6,
   "id": "18ca3699",
   "metadata": {},
   "outputs": [
    {
     "name": "stdout",
     "output_type": "stream",
     "text": [
      "Digite seu nome: jessica\n",
      "*Jessica*, que nome lindo!\n"
     ]
    }
   ],
   "source": [
    "nome = input('Digite seu nome: ').upper()\n",
    "if nome ==\"JESSICA\":\n",
    "    print(\"*Jessica*, que nome lindo!\")\n",
    "else:\n",
    "    print(f\"Seja bem vindo/a {nome}\")"
   ]
  },
  {
   "cell_type": "markdown",
   "id": "c1e2609c",
   "metadata": {},
   "source": [
    "**DESAFIOS**"
   ]
  },
  {
   "cell_type": "markdown",
   "id": "933786e2",
   "metadata": {},
   "source": [
    "**(28) Escreva um programa que faça o computador \"pensar\" em um número de 0 a 5 e peça para o usuário tentat descobrir qual foi o número escolhido pelo cumputador.**\n",
    "**O programa deverá escrever na tela se o usuário venceu o desafio.**"
   ]
  },
  {
   "cell_type": "code",
   "execution_count": 8,
   "id": "f173a98d",
   "metadata": {},
   "outputs": [],
   "source": [
    "import random\n",
    "import math"
   ]
  },
  {
   "cell_type": "code",
   "execution_count": 19,
   "id": "396019a1",
   "metadata": {},
   "outputs": [
    {
     "name": "stdout",
     "output_type": "stream",
     "text": [
      "Entre 0 e 5, qual número o computador irá escolher? 1\n",
      "Infelizmente não foi dessa vez!\n",
      "O número esolhido pelo computador foi o 2.\n"
     ]
    }
   ],
   "source": [
    "num_usuario = int(input(\"Entre 0 e 5, qual número o computador irá escolher? \"))\n",
    "\n",
    "num = random.randint(0,5)\n",
    "\n",
    "\n",
    "if num_usuario==num:\n",
    "    print(f\"Parabéns!\\nO número escolhido pelo computador foi {num}.\")\n",
    "else:\n",
    "    print(f\"Infelizmente não foi dessa vez!\\nO número esolhido pelo computador foi o {num}.\")"
   ]
  },
  {
   "cell_type": "markdown",
   "id": "7d1cf1b9",
   "metadata": {},
   "source": [
    "_____\n",
    "**(29) Escreva um programa que leia a velocidade de um carro. Se ele ultrapassar 80km/h, mostre uma mensagem mostrando que ele foi multado. A multa será 7,00R$ por cada km acima do limite.** "
   ]
  },
  {
   "cell_type": "code",
   "execution_count": 3,
   "id": "153fb9c7",
   "metadata": {},
   "outputs": [
    {
     "name": "stdout",
     "output_type": "stream",
     "text": [
      "Digite a velocidade do carro: 80\n",
      "Parabéns por respeitar o limite de velocidade!\n"
     ]
    }
   ],
   "source": [
    "vel = float(input(\"Digite a velocidade do carro: \"))\n",
    "if vel>80:\n",
    "    multa = (vel - 80)*7\n",
    "    print(f\"Você foi multado em {multa}. \")\n",
    "else:\n",
    "    print(\"Parabéns por respeitar o limite de velocidade!\")"
   ]
  },
  {
   "cell_type": "markdown",
   "id": "b3a15cd5",
   "metadata": {},
   "source": [
    "**(30) Escreva um programa que leia um número inteiro e mostre na tela se ele é impar ou par.**"
   ]
  },
  {
   "cell_type": "code",
   "execution_count": 10,
   "id": "b27cb6c4",
   "metadata": {},
   "outputs": [
    {
     "name": "stdout",
     "output_type": "stream",
     "text": [
      "Digite um número: 96\n",
      "O número 96 é par!\n"
     ]
    }
   ],
   "source": [
    "num = int(input(\"Digite um número: \"))\n",
    "resto = num%2\n",
    "if resto==0:\n",
    "    print(f\"O número {num} é par!\")\n",
    "else:\n",
    "    print(f\"O número {num} é impar!\")"
   ]
  },
  {
   "cell_type": "markdown",
   "id": "465247cb",
   "metadata": {},
   "source": [
    "**(32) Faça um programa que leia um ano qualquer e mostre se ele é ou não bissexto.**"
   ]
  },
  {
   "cell_type": "code",
   "execution_count": 14,
   "id": "1f5b09d7",
   "metadata": {},
   "outputs": [
    {
     "name": "stdout",
     "output_type": "stream",
     "text": [
      "Digite um ano: 1520\n",
      "O ano 1520 é Bissexto.\n"
     ]
    }
   ],
   "source": [
    "num = int(input(\"Digite um ano: \"))\n",
    "if num % 4 == 0 and num % 100 != 0 or num % 400 == 0:\n",
    "    print(f\"O ano {num} é Bissexto.\")\n",
    "else:\n",
    "    print(f\"O ano {num} não é bissexto.\")"
   ]
  },
  {
   "cell_type": "markdown",
   "id": "3e467ad8",
   "metadata": {},
   "source": [
    "**(33) Faça um programa que leia 3 números e mostre qual é o maior e o menor valor.**"
   ]
  },
  {
   "cell_type": "code",
   "execution_count": 18,
   "id": "e1061396",
   "metadata": {},
   "outputs": [
    {
     "name": "stdout",
     "output_type": "stream",
     "text": [
      "Digite um número: 2\n",
      "Digite um segundo número: 5\n",
      "Digite um terceiro número: 9\n",
      "\n",
      "O menor número é: 2.0\n",
      "\n",
      "O maior número é: 9.0\n"
     ]
    }
   ],
   "source": [
    "n1 = float(input(\"Digite um número: \"))\n",
    "n2 = float(input(\"Digite um segundo número: \"))\n",
    "n3 = float(input(\"Digite um terceiro número: \"))\n",
    "\n",
    "lista = [n1,n2,n3]\n",
    "lista2 = sorted(lista)\n",
    "\n",
    "print(f\"\\nO menor número é: {lista2[0]}\")\n",
    "print(f\"\\nO maior número é: {lista[2]}\")"
   ]
  },
  {
   "cell_type": "code",
   "execution_count": 1,
   "id": "775dd27d",
   "metadata": {},
   "outputs": [
    {
     "name": "stdout",
     "output_type": "stream",
     "text": [
      "Digite um número: 5\n",
      "Digite um segundo número: 4\n",
      "Digite um terceiro número: 8\n",
      "8.0 5.0 4.0\n"
     ]
    }
   ],
   "source": [
    "n1 = float(input(\"Digite um número: \"))\n",
    "n2 = float(input(\"Digite um segundo número: \"))\n",
    "n3 = float(input(\"Digite um terceiro número: \"))\n",
    "\n",
    "if n1>n2 and n1>n3:\n",
    "    maior = n1\n",
    "    if n2>n3:\n",
    "        maior2=n2\n",
    "        menor=n3\n",
    "    else:\n",
    "        maior2=n3\n",
    "        menor=n3\n",
    "if n2>n1 and n2>n3:\n",
    "    maior = n2\n",
    "    if n1>n3:\n",
    "        maior2=n1\n",
    "        menor=n3\n",
    "    else:\n",
    "        maior2=n3\n",
    "        menor=n1\n",
    "if n3>n1 and n3>n2:\n",
    "    maior=n3\n",
    "    if n1>n2:\n",
    "        maior2=n1\n",
    "        menor=n2\n",
    "    else:\n",
    "        maior2=n2\n",
    "        menor=n1\n",
    "print(maior,maior2,menor)"
   ]
  },
  {
   "cell_type": "code",
   "execution_count": null,
   "id": "28f63213",
   "metadata": {},
   "outputs": [],
   "source": []
  }
 ],
 "metadata": {
  "kernelspec": {
   "display_name": "Python 3 (ipykernel)",
   "language": "python",
   "name": "python3"
  },
  "language_info": {
   "codemirror_mode": {
    "name": "ipython",
    "version": 3
   },
   "file_extension": ".py",
   "mimetype": "text/x-python",
   "name": "python",
   "nbconvert_exporter": "python",
   "pygments_lexer": "ipython3",
   "version": "3.9.13"
  }
 },
 "nbformat": 4,
 "nbformat_minor": 5
}

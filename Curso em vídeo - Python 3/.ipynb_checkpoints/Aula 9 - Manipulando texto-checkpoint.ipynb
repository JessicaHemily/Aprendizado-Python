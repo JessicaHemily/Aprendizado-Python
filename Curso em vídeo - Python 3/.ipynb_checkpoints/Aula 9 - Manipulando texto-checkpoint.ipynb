{
 "cells": [
  {
   "cell_type": "markdown",
   "id": "99566556",
   "metadata": {},
   "source": [
    "___\n",
    "**AULA 9 - CURSO EM VÍDEO - GUANABARA**\n",
    "___"
   ]
  },
  {
   "cell_type": "code",
   "execution_count": 34,
   "id": "8836223c",
   "metadata": {},
   "outputs": [],
   "source": [
    "frase = \"Olá mundo\"\n"
   ]
  },
  {
   "cell_type": "markdown",
   "id": "86ba44e1",
   "metadata": {},
   "source": [
    "___\n",
    "**FATIAMENTO**"
   ]
  },
  {
   "cell_type": "code",
   "execution_count": 35,
   "id": "919ef858",
   "metadata": {},
   "outputs": [
    {
     "name": "stdout",
     "output_type": "stream",
     "text": [
      "u\n",
      "lá m\n",
      "Olá m\n",
      "undo\n",
      "l u\n",
      "l ud\n"
     ]
    }
   ],
   "source": [
    "print(frase[5])\n",
    "\n",
    "print(frase[1:5])\n",
    "\n",
    "print(frase[:5])\n",
    "\n",
    "print(frase[5:])\n",
    "\n",
    "print(frase[1:6:2])\n",
    "\n",
    "print(frase[1::2])"
   ]
  },
  {
   "cell_type": "markdown",
   "id": "b4b5be89",
   "metadata": {},
   "source": [
    "___\n",
    "**ANÁLISE**"
   ]
  },
  {
   "cell_type": "code",
   "execution_count": 36,
   "id": "eb1501eb",
   "metadata": {},
   "outputs": [
    {
     "data": {
      "text/plain": [
       "9"
      ]
     },
     "execution_count": 36,
     "metadata": {},
     "output_type": "execute_result"
    }
   ],
   "source": [
    "#Retorna o comprimento da string\n",
    "len(frase)"
   ]
  },
  {
   "cell_type": "code",
   "execution_count": 37,
   "id": "7eeaf3cb",
   "metadata": {},
   "outputs": [
    {
     "data": {
      "text/plain": [
       "1"
      ]
     },
     "execution_count": 37,
     "metadata": {},
     "output_type": "execute_result"
    }
   ],
   "source": [
    "frase.count('o')"
   ]
  },
  {
   "cell_type": "code",
   "execution_count": 38,
   "id": "977ebb2d",
   "metadata": {},
   "outputs": [
    {
     "data": {
      "text/plain": [
       "0"
      ]
     },
     "execution_count": 38,
     "metadata": {},
     "output_type": "execute_result"
    }
   ],
   "source": [
    "frase.count('o',0,5)"
   ]
  },
  {
   "cell_type": "code",
   "execution_count": 39,
   "id": "195b25d7",
   "metadata": {},
   "outputs": [
    {
     "data": {
      "text/plain": [
       "4"
      ]
     },
     "execution_count": 39,
     "metadata": {},
     "output_type": "execute_result"
    }
   ],
   "source": [
    "#Encontrar a posição em que começa a string\n",
    "frase.find('mun')"
   ]
  },
  {
   "cell_type": "code",
   "execution_count": 40,
   "id": "2be43b1a",
   "metadata": {},
   "outputs": [
    {
     "data": {
      "text/plain": [
       "-1"
      ]
     },
     "execution_count": 40,
     "metadata": {},
     "output_type": "execute_result"
    }
   ],
   "source": [
    "#O resultado -1 significa que não há correspondencia da string procurada\n",
    "frase.find('chiclete')"
   ]
  },
  {
   "cell_type": "code",
   "execution_count": 41,
   "id": "d9917afd",
   "metadata": {},
   "outputs": [
    {
     "data": {
      "text/plain": [
       "False"
      ]
     },
     "execution_count": 41,
     "metadata": {},
     "output_type": "execute_result"
    }
   ],
   "source": [
    "#Existe a palavra \"curso\"?\n",
    "'curso' in frase"
   ]
  },
  {
   "cell_type": "code",
   "execution_count": 42,
   "id": "b171eb26",
   "metadata": {},
   "outputs": [
    {
     "data": {
      "text/plain": [
       "True"
      ]
     },
     "execution_count": 42,
     "metadata": {},
     "output_type": "execute_result"
    }
   ],
   "source": [
    "'mundo' in frase"
   ]
  },
  {
   "cell_type": "markdown",
   "id": "bfc609cf",
   "metadata": {},
   "source": [
    "___\n",
    "**TRANSFORMAÇÃO**"
   ]
  },
  {
   "cell_type": "markdown",
   "id": "5d9022ef",
   "metadata": {},
   "source": [
    "*Replace - Altera a composição da string"
   ]
  },
  {
   "cell_type": "code",
   "execution_count": 43,
   "id": "7039cb97",
   "metadata": {},
   "outputs": [
    {
     "name": "stdout",
     "output_type": "stream",
     "text": [
      "Olá idiotas\n",
      "Olá mundo\n",
      "Olá idiotas\n"
     ]
    }
   ],
   "source": [
    "#Não muda o valor da variável\n",
    "print(frase.replace('mundo','idiotas'))\n",
    "print(frase)\n",
    "\n",
    "#Mudança na variável\n",
    "frase = frase.replace('mundo','idiotas')\n",
    "print(frase)"
   ]
  },
  {
   "cell_type": "markdown",
   "id": "e4f601bd",
   "metadata": {},
   "source": [
    "*Lower - Altera a string para minúsculo"
   ]
  },
  {
   "cell_type": "code",
   "execution_count": 44,
   "id": "907a8d58",
   "metadata": {},
   "outputs": [
    {
     "name": "stdout",
     "output_type": "stream",
     "text": [
      "olá idiotas\n",
      "Olá idiotas\n"
     ]
    }
   ],
   "source": [
    "print(frase.lower())\n",
    "print(frase)"
   ]
  },
  {
   "cell_type": "markdown",
   "id": "b4993ba1",
   "metadata": {},
   "source": [
    "*Upper - Altera a string para maiúsculo"
   ]
  },
  {
   "cell_type": "code",
   "execution_count": 45,
   "id": "640e5ed8",
   "metadata": {},
   "outputs": [
    {
     "name": "stdout",
     "output_type": "stream",
     "text": [
      "OLÁ IDIOTAS\n",
      "Olá idiotas\n"
     ]
    }
   ],
   "source": [
    "print(frase.upper())\n",
    "print(frase)"
   ]
  },
  {
   "cell_type": "markdown",
   "id": "e67caf6a",
   "metadata": {},
   "source": [
    "*Capitalize - Altera a primeira letra para maiúscula"
   ]
  },
  {
   "cell_type": "code",
   "execution_count": 46,
   "id": "bb680663",
   "metadata": {},
   "outputs": [
    {
     "name": "stdout",
     "output_type": "stream",
     "text": [
      "Olá idiotas\n",
      "Olá idiotas\n"
     ]
    }
   ],
   "source": [
    "print(frase.capitalize())\n",
    "print(frase)"
   ]
  },
  {
   "cell_type": "markdown",
   "id": "a752c019",
   "metadata": {},
   "source": [
    "*Title - Deixa a primeira letra de cada palavra em maiúscula"
   ]
  },
  {
   "cell_type": "code",
   "execution_count": 47,
   "id": "fa697f2d",
   "metadata": {},
   "outputs": [
    {
     "name": "stdout",
     "output_type": "stream",
     "text": [
      "Olá Idiotas\n",
      "Olá idiotas\n"
     ]
    }
   ],
   "source": [
    "print(frase.title())\n",
    "print(frase)"
   ]
  },
  {
   "cell_type": "markdown",
   "id": "5b0471c5",
   "metadata": {},
   "source": [
    "*Strip - Retira os espaços vazios"
   ]
  },
  {
   "cell_type": "code",
   "execution_count": 48,
   "id": "85059086",
   "metadata": {},
   "outputs": [
    {
     "name": "stdout",
     "output_type": "stream",
     "text": [
      "12\n",
      "Olá mundo\n",
      "9\n"
     ]
    }
   ],
   "source": [
    "frase2 = ' Olá mundo  '\n",
    "print(len(frase2))\n",
    "\n",
    "print(frase2.strip())\n",
    "\n",
    "print(len(frase2.strip()))"
   ]
  },
  {
   "cell_type": "markdown",
   "id": "07d54c15",
   "metadata": {},
   "source": [
    "*Split - Quebra a string formando uma lista"
   ]
  },
  {
   "cell_type": "code",
   "execution_count": 49,
   "id": "0ae54906",
   "metadata": {},
   "outputs": [
    {
     "data": {
      "text/plain": [
       "['Olá', 'idiotas']"
      ]
     },
     "execution_count": 49,
     "metadata": {},
     "output_type": "execute_result"
    }
   ],
   "source": [
    "frase.split()"
   ]
  },
  {
   "cell_type": "code",
   "execution_count": 50,
   "id": "feba4aec",
   "metadata": {},
   "outputs": [
    {
     "name": "stdout",
     "output_type": "stream",
     "text": [
      "Olá idiotas\n"
     ]
    }
   ],
   "source": [
    "frase2=['ola','mundo']\n",
    "\n",
    "print(frase)"
   ]
  },
  {
   "cell_type": "code",
   "execution_count": 51,
   "id": "e79b5c3b",
   "metadata": {},
   "outputs": [
    {
     "name": "stdout",
     "output_type": "stream",
     "text": [
      "['olá', 'mundão', 'bom', 'bom!']\n",
      "\n",
      "O primeiro item da lista é: olá\n"
     ]
    },
    {
     "data": {
      "text/plain": [
       "4"
      ]
     },
     "execution_count": 51,
     "metadata": {},
     "output_type": "execute_result"
    }
   ],
   "source": [
    "frase3 = \"olá mundão bom bom!\"\n",
    "divido=frase3.split()\n",
    "print(divido)\n",
    "print(f\"\\nO primeiro item da lista é: {divido[0]}\")\n",
    "\n",
    "len(divido)"
   ]
  },
  {
   "cell_type": "markdown",
   "id": "c3b35e89",
   "metadata": {},
   "source": [
    "*Join - junta uma lista em uma única string"
   ]
  },
  {
   "cell_type": "code",
   "execution_count": 52,
   "id": "593c1267",
   "metadata": {},
   "outputs": [
    {
     "data": {
      "text/plain": [
       "'ola*mundo'"
      ]
     },
     "execution_count": 52,
     "metadata": {},
     "output_type": "execute_result"
    }
   ],
   "source": [
    "'*'.join(frase2)"
   ]
  },
  {
   "cell_type": "markdown",
   "id": "cffda68c",
   "metadata": {},
   "source": [
    "___\n",
    "***DESAFIOS***\n",
    "___"
   ]
  },
  {
   "cell_type": "markdown",
   "id": "247a5c6b",
   "metadata": {},
   "source": [
    "**(22) Crie um programa  que leia um nome completo e mostre:**\n",
    "\n",
    "    a) O nome com todas as maiúsculas;\n",
    "\n",
    "    b) O nome com todas as minúsculas;\n",
    "\n",
    "    c) Quantas letras ao todo (sem considerar os espaços);\n",
    "\n",
    "    d) Quantas letras tem o primeiro nome;"
   ]
  },
  {
   "cell_type": "code",
   "execution_count": 53,
   "id": "383862d3",
   "metadata": {},
   "outputs": [
    {
     "name": "stdout",
     "output_type": "stream",
     "text": [
      "Digite seu nome completo: jessica hem\n"
     ]
    }
   ],
   "source": [
    "nome = input(\"Digite seu nome completo: \")\n"
   ]
  },
  {
   "cell_type": "code",
   "execution_count": 54,
   "id": "43b75287",
   "metadata": {},
   "outputs": [
    {
     "name": "stdout",
     "output_type": "stream",
     "text": [
      "O nome em maiúsculo é: JESSICA HEM\n"
     ]
    }
   ],
   "source": [
    "# a\n",
    "nome2 = nome.upper()\n",
    "print(f\"O nome em maiúsculo é: {nome2}\")"
   ]
  },
  {
   "cell_type": "code",
   "execution_count": 55,
   "id": "3031dc80",
   "metadata": {},
   "outputs": [
    {
     "name": "stdout",
     "output_type": "stream",
     "text": [
      "O nome em minusculo é: jessica hem\n"
     ]
    }
   ],
   "source": [
    "# b\n",
    "nome3 = nome.lower()\n",
    "print(f\"O nome em minusculo é: {nome3}\")"
   ]
  },
  {
   "cell_type": "code",
   "execution_count": 56,
   "id": "b664c942",
   "metadata": {},
   "outputs": [
    {
     "name": "stdout",
     "output_type": "stream",
     "text": [
      "O nome jessica hem possui 10 letras.\n"
     ]
    }
   ],
   "source": [
    "# c\n",
    "nome4 = nome.split()\n",
    "nome4 = \"\".join(nome4)\n",
    "quant = len(nome4)\n",
    "print(f\"O nome {nome} possui {quant} letras.\")"
   ]
  },
  {
   "cell_type": "code",
   "execution_count": 57,
   "id": "3285cf3d",
   "metadata": {},
   "outputs": [
    {
     "name": "stdout",
     "output_type": "stream",
     "text": [
      "O primeiro nome jessica posssui 7 letras\n"
     ]
    }
   ],
   "source": [
    "# d\n",
    "nome5 = nome.split()\n",
    "quant = len(nome5[0])\n",
    "print(f'O primeiro nome {nome5[0]} posssui {quant} letras')"
   ]
  },
  {
   "cell_type": "markdown",
   "id": "c4be8e4e",
   "metadata": {},
   "source": [
    "___\n",
    "**(23) Faça um programa que leia um n de 0 a 9999 e mostre na tela cada um dos dígitos separados.**"
   ]
  },
  {
   "cell_type": "code",
   "execution_count": 67,
   "id": "d831412a",
   "metadata": {},
   "outputs": [
    {
     "name": "stdout",
     "output_type": "stream",
     "text": [
      "Digite um número de 0 a 9999: 1234\n",
      "\n",
      "Milhar: 1\n",
      "Centena: 2\n",
      "Dezena: 3\n",
      "Unidade: 4\n"
     ]
    }
   ],
   "source": [
    "#### SÓ FUNCIONA SE O NÚMERO POSSUIR 4 DÍGITOS!! ####\n",
    "\n",
    "num = input(\"Digite um número de 0 a 9999: \")\n",
    "milhar=num[0]\n",
    "centena = num[1]\n",
    "dezena = num[2]\n",
    "unidade = num[3]\n",
    "print(f'\\nMilhar: {milhar}')\n",
    "print(f'Centena: {centena}')\n",
    "print(f'Dezena: {dezena}')\n",
    "print(f'Unidade: {unidade}')"
   ]
  },
  {
   "cell_type": "code",
   "execution_count": 68,
   "id": "a8e9125a",
   "metadata": {},
   "outputs": [
    {
     "name": "stdout",
     "output_type": "stream",
     "text": [
      "Digite um número de 0 a 9999: 124\n",
      "\n",
      "Milhar: 0\n",
      "Centena: 1\n",
      "Dezena: 2\n",
      "Unidade: 4\n"
     ]
    }
   ],
   "source": [
    "#### FUNCIONA SEMPRE! ####\n",
    "num = int(input(\"Digite um número de 0 a 9999: \"))\n",
    "\n",
    "#5234\n",
    "#5234 // 1000 = 5 e sobra 234\n",
    "#5234 % 1000 = 234\n",
    "#234//100 = 2\n",
    "#234 % 100 = 34\n",
    "\n",
    "milhar = num//1000\n",
    "centena = (num%1000)//100\n",
    "dezena = ((num % 1000)%100)//10\n",
    "unidade = ((num % 1000)%100)%10\n",
    "\n",
    "print(f\"\\nMilhar: {milhar}\")\n",
    "print(f\"Centena: {centena}\")\n",
    "print(f\"Dezena: {dezena}\")\n",
    "print(f\"Unidade: {unidade}\")"
   ]
  },
  {
   "cell_type": "markdown",
   "id": "c6a7b37d",
   "metadata": {},
   "source": [
    "___\n",
    "**(24) Crie um programa que leia o nome de uma cidade e diga se ela começa com a palavra \"santo\".**"
   ]
  },
  {
   "cell_type": "code",
   "execution_count": 6,
   "id": "f24abba5",
   "metadata": {},
   "outputs": [
    {
     "name": "stdout",
     "output_type": "stream",
     "text": [
      "Digite o nome de sua cidade: santo inacio\n",
      "True\n"
     ]
    }
   ],
   "source": [
    "cidade = input(\"Digite o nome de sua cidade: \").strip().upper()\n",
    "print(cidade[:5]=='SANTO')\n",
    "\n"
   ]
  },
  {
   "cell_type": "markdown",
   "id": "086030b9",
   "metadata": {},
   "source": [
    "___\n",
    "**(25) Crie um programa que leia o nome de uma pessoa e diga se ela tem \"Silva\" no nome.**"
   ]
  },
  {
   "cell_type": "code",
   "execution_count": 20,
   "id": "3ed65fa3",
   "metadata": {},
   "outputs": [
    {
     "name": "stdout",
     "output_type": "stream",
     "text": [
      "Digite seu nome completo: jessica silva\n",
      "Seu nome possui 'Silva'?: True \n"
     ]
    }
   ],
   "source": [
    "nome = input(\"Digite seu nome completo: \").strip().upper()\n",
    "print(f\"Seu nome possui 'Silva'?: {'SILVA' in nome} \")\n"
   ]
  },
  {
   "cell_type": "markdown",
   "id": "e4d5663b",
   "metadata": {},
   "source": [
    "___\n",
    "**(26) Faça um programa que leia uma frase pelo teclado e mostre:**\n",
    "\n",
    "    a) Quantas vezes aparece a letra A;\n",
    "\n",
    "    b) Em que posição a letra A aparece pela primeira vez;\n",
    "\n",
    "    c) Em que posição a letra A aparece pela última vez."
   ]
  },
  {
   "cell_type": "code",
   "execution_count": 25,
   "id": "7f7289a1",
   "metadata": {},
   "outputs": [
    {
     "name": "stdout",
     "output_type": "stream",
     "text": [
      "Digite uma frase: ela é esperta\n"
     ]
    }
   ],
   "source": [
    "frase = input(\"Digite uma frase: \").strip().upper()\n"
   ]
  },
  {
   "cell_type": "code",
   "execution_count": 26,
   "id": "f12f2fca",
   "metadata": {},
   "outputs": [
    {
     "name": "stdout",
     "output_type": "stream",
     "text": [
      "A letra A aparece: 2 vezes\n"
     ]
    }
   ],
   "source": [
    "# a\n",
    "n=frase.count('A')\n",
    "print(f'A letra A aparece: {n} vezes')"
   ]
  },
  {
   "cell_type": "code",
   "execution_count": 34,
   "id": "4ebf196a",
   "metadata": {},
   "outputs": [
    {
     "name": "stdout",
     "output_type": "stream",
     "text": [
      "A letra A aparece pela primeira vez na posição: 3.\n"
     ]
    }
   ],
   "source": [
    "# b\n",
    "pri = frase.find('A')+1\n",
    "print(f'A letra A aparece pela primeira vez na posição: {pri}.')"
   ]
  },
  {
   "cell_type": "code",
   "execution_count": 35,
   "id": "b60d2bfa",
   "metadata": {},
   "outputs": [
    {
     "name": "stdout",
     "output_type": "stream",
     "text": [
      " A letra A aparece pela última vez na posição: 13.\n"
     ]
    }
   ],
   "source": [
    "# c\n",
    "ult = frase.rfind('A')+1\n",
    "print(f' A letra A aparece pela última vez na posição: {ult}.')\n",
    "\n"
   ]
  },
  {
   "cell_type": "markdown",
   "id": "1eeb9d71",
   "metadata": {},
   "source": [
    "**(27) Faça um programa que leia o nome completo de uma pessoa, mostrando em seguida o primeiro e o último nome separadamente.**"
   ]
  },
  {
   "cell_type": "code",
   "execution_count": 42,
   "id": "fbdc8182",
   "metadata": {},
   "outputs": [
    {
     "name": "stdout",
     "output_type": "stream",
     "text": [
      "Digite seu nome completo: Jessica Hemily de Sá\n",
      "Seu primeiro nome é: Jessica\n",
      "Seu último nome é: Sá\n"
     ]
    }
   ],
   "source": [
    "nome = input(\"Digite seu nome completo: \").strip().split()\n",
    "n=len(nome)\n",
    "print(f'Seu primeiro nome é: {nome[0]}')\n",
    "print(f'Seu último nome é: {nome[n-1]}')"
   ]
  },
  {
   "cell_type": "code",
   "execution_count": null,
   "id": "833c13d2",
   "metadata": {},
   "outputs": [],
   "source": []
  }
 ],
 "metadata": {
  "kernelspec": {
   "display_name": "Python 3 (ipykernel)",
   "language": "python",
   "name": "python3"
  },
  "language_info": {
   "codemirror_mode": {
    "name": "ipython",
    "version": 3
   },
   "file_extension": ".py",
   "mimetype": "text/x-python",
   "name": "python",
   "nbconvert_exporter": "python",
   "pygments_lexer": "ipython3",
   "version": "3.9.13"
  }
 },
 "nbformat": 4,
 "nbformat_minor": 5
}

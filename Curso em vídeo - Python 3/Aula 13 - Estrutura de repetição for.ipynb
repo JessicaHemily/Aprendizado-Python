{
 "cells": [
  {
   "cell_type": "markdown",
   "id": "62e9cb73",
   "metadata": {},
   "source": [
    "**Estrutura FOR**\n",
    "\n",
    "for **variável** range **( início, fim , passo )**:\n",
    "\n",
    "    Bloco a ser executado em loop\n",
    "\n",
    "<<-- Fim do loop"
   ]
  },
  {
   "cell_type": "code",
   "execution_count": 5,
   "id": "0874f114",
   "metadata": {},
   "outputs": [
    {
     "name": "stdout",
     "output_type": "stream",
     "text": [
      "\u001b[31mOI\u001b[m\n",
      "\u001b[31mOI\u001b[m\n",
      "\u001b[31mOI\u001b[m\n",
      "\u001b[31mOI\u001b[m\n",
      "\u001b[31mOI\u001b[m\n",
      "FIM\n"
     ]
    }
   ],
   "source": [
    "for c in range(1,6):\n",
    "    print(\"\\033[31mOI\\033[m\")\n",
    "print('FIM')"
   ]
  },
  {
   "cell_type": "code",
   "execution_count": 6,
   "id": "919d0a36",
   "metadata": {},
   "outputs": [
    {
     "name": "stdout",
     "output_type": "stream",
     "text": [
      "1\n",
      "2\n",
      "3\n",
      "4\n",
      "5\n",
      "6\n"
     ]
    }
   ],
   "source": [
    "#CONTAGEM DE 1 A 6:\n",
    "\n",
    "for c in range(0,6):\n",
    "    print(c+1)"
   ]
  },
  {
   "cell_type": "code",
   "execution_count": 7,
   "id": "bf8d7706",
   "metadata": {},
   "outputs": [
    {
     "name": "stdout",
     "output_type": "stream",
     "text": [
      "6\n",
      "5\n",
      "4\n",
      "3\n",
      "2\n",
      "1\n"
     ]
    }
   ],
   "source": [
    "#CONTAGEM DE 6 A 1:\n",
    "\n",
    "for c in range(6,0,-1):\n",
    "    print(c)"
   ]
  },
  {
   "cell_type": "code",
   "execution_count": 9,
   "id": "259faf4f",
   "metadata": {},
   "outputs": [
    {
     "name": "stdout",
     "output_type": "stream",
     "text": [
      "0\n",
      "2\n",
      "4\n",
      "6\n"
     ]
    }
   ],
   "source": [
    "#CONTAGEM DE 1 A 6 DE 2 EM 2:\n",
    "\n",
    "for c in range(0,7,2):\n",
    "    print(c)"
   ]
  },
  {
   "cell_type": "markdown",
   "id": "9971fc78",
   "metadata": {},
   "source": [
    "___\n",
    "**DESAFIOS**"
   ]
  },
  {
   "cell_type": "markdown",
   "id": "9b7e5d27",
   "metadata": {},
   "source": [
    "**(46) Faça um programa que mostre na tela uma contagem regressiva para o estouro de fogos de artifício, indo de 10 até 0, com uma pausa de 1 segundo entre eles.**"
   ]
  },
  {
   "cell_type": "code",
   "execution_count": 16,
   "id": "666b29ea",
   "metadata": {},
   "outputs": [
    {
     "name": "stdout",
     "output_type": "stream",
     "text": [
      "\u001b[7mCONTAGEM REGRESSIVA!\u001b[m\n",
      "\u001b[1m10\n",
      "\u001b[1m9\n",
      "\u001b[1m8\n",
      "\u001b[1m7\n",
      "\u001b[1m6\n",
      "\u001b[1m5\n",
      "\u001b[1m4\n",
      "\u001b[1m3\n",
      "\u001b[1m2\n",
      "\u001b[1m1\n",
      "\u001b[1,41m***BOOM!!***\n"
     ]
    }
   ],
   "source": [
    "import time\n",
    "print(\"\\033[7mCONTAGEM REGRESSIVA!\\033[m\")\n",
    "\n",
    "for n in range(10,0,-1):\n",
    "    print(f\"\\033[1m{n}\")\n",
    "    time.sleep(1)\n",
    "print(\"\\033[1,41m***BOOM!!***\")"
   ]
  },
  {
   "cell_type": "markdown",
   "id": "535a4932",
   "metadata": {},
   "source": [
    "____\n",
    "**(48) Faça um programa que calcule a soma entre todos os número ÍMPARES que são múltiplos de 3 e que se encontram no intervalo de 1 até 500.**"
   ]
  },
  {
   "cell_type": "code",
   "execution_count": 4,
   "id": "50a21c90",
   "metadata": {},
   "outputs": [
    {
     "name": "stdout",
     "output_type": "stream",
     "text": [
      "20667\n"
     ]
    }
   ],
   "source": [
    "soma=0\n",
    "for n in range(1,501,2):\n",
    "    resto = n%3\n",
    "    if resto==0:\n",
    "        soma = soma + n\n",
    "print(soma)"
   ]
  },
  {
   "cell_type": "markdown",
   "id": "3d875efe",
   "metadata": {},
   "source": [
    "___\n",
    "**(49) Mostre a tabuada de um número que o usuário escolher utilizando for.**"
   ]
  },
  {
   "cell_type": "code",
   "execution_count": 8,
   "id": "a4db4c14",
   "metadata": {
    "scrolled": true
   },
   "outputs": [
    {
     "name": "stdout",
     "output_type": "stream",
     "text": [
      "A tabuada de qual número você deseja? 5\n",
      "0 x 5 = \u001b[1m0\u001b[m\n",
      "1 x 5 = \u001b[1m5\u001b[m\n",
      "2 x 5 = \u001b[1m10\u001b[m\n",
      "3 x 5 = \u001b[1m15\u001b[m\n",
      "4 x 5 = \u001b[1m20\u001b[m\n",
      "5 x 5 = \u001b[1m25\u001b[m\n",
      "6 x 5 = \u001b[1m30\u001b[m\n",
      "7 x 5 = \u001b[1m35\u001b[m\n",
      "8 x 5 = \u001b[1m40\u001b[m\n",
      "9 x 5 = \u001b[1m45\u001b[m\n",
      "10 x 5 = \u001b[1m50\u001b[m\n"
     ]
    }
   ],
   "source": [
    "num = int(input(\"A tabuada de qual número você deseja? \"))\n",
    "for cont in range(0,11):\n",
    "    mult = cont*num\n",
    "    print(f\"{cont} x {num} = \\033[1m{mult}\\033[m\")\n",
    "    "
   ]
  },
  {
   "cell_type": "markdown",
   "id": "9d0d31ad",
   "metadata": {},
   "source": [
    "___\n",
    "**(51) Desenvolva um programa que leia o primeiro termo e a razao de uma PA. No final, mostre os 10 primeiros termos dessa progressão.**"
   ]
  },
  {
   "cell_type": "code",
   "execution_count": 25,
   "id": "cbe8e0bc",
   "metadata": {},
   "outputs": [
    {
     "name": "stdout",
     "output_type": "stream",
     "text": [
      "Digite o primeiro termo da PA: 1\n",
      "Digite a razão da PA: 5\n",
      "1 → 6 → 11 → 16 → 21 → 26 → 31 → 36 → 41 → 46 → \u001b[1mFim!\n"
     ]
    }
   ],
   "source": [
    "primeiro = int(input(\"Digite o primeiro termo da PA: \"))\n",
    "razao = int(input(\"Digite a razão da PA: \"))\n",
    "ultimo = primeiro + 9*razao\n",
    "contagem=0\n",
    "for cont in range(primeiro,ultimo+1,razao):\n",
    "    contagem=contagem+1\n",
    "    print(f\"{cont}\",end=\" → \")\n",
    "print(\"\\033[1mFim!\")"
   ]
  },
  {
   "cell_type": "code",
   "execution_count": null,
   "id": "eec5d528",
   "metadata": {},
   "outputs": [],
   "source": []
  }
 ],
 "metadata": {
  "kernelspec": {
   "display_name": "Python 3 (ipykernel)",
   "language": "python",
   "name": "python3"
  },
  "language_info": {
   "codemirror_mode": {
    "name": "ipython",
    "version": 3
   },
   "file_extension": ".py",
   "mimetype": "text/x-python",
   "name": "python",
   "nbconvert_exporter": "python",
   "pygments_lexer": "ipython3",
   "version": "3.9.13"
  }
 },
 "nbformat": 4,
 "nbformat_minor": 5
}

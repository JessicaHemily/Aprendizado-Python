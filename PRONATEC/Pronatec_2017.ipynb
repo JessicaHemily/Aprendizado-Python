{
 "cells": [
  {
   "cell_type": "markdown",
   "id": "68edccae",
   "metadata": {},
   "source": [
    "# Análise de dados - Rede Federal de EPCT. - 2017\n",
    "---\n",
    "###  Dados disponibilizados pelo Portal de Dados Abertos do Governo Federal\n",
    "\n",
    "\n",
    "\n",
    "Link: https://dados.gov.br/dados/conjuntos-dados/rede-federal-de-educacao-profissional-cientifica-e-tecnologica\n",
    "\n",
    "   * Recurso: 2017 - Matrículas Atendidas na Rede Federal de EPCT\n",
    "   * Quantidade de Matrículas Atendidas por Iniciativa do Pronatec, Unidade, Tipo de Curso, Curso, Tipo de Oferta e Modalidade de Ensino da Rede Federal de EPCT.\n",
    "   * Data de criação: 02/11/2018"
   ]
  },
  {
   "cell_type": "markdown",
   "id": "0d5ed1ae",
   "metadata": {},
   "source": [
    "**Importar a biblioteca Pandas**"
   ]
  },
  {
   "cell_type": "code",
   "execution_count": 2,
   "id": "64afa28b",
   "metadata": {},
   "outputs": [],
   "source": [
    "import pandas as pd\n",
    "import matplotlib.pyplot as plt"
   ]
  },
  {
   "cell_type": "markdown",
   "id": "e01743a8",
   "metadata": {},
   "source": [
    "**Carregar o arquivo csv**\n",
    "\n",
    "O arquivo possui como separador o \" ; \", logo devemos informar ao Pandas por meio de > > sep = ' ; '\n"
   ]
  },
  {
   "cell_type": "code",
   "execution_count": 3,
   "id": "525f3df6",
   "metadata": {},
   "outputs": [
    {
     "name": "stderr",
     "output_type": "stream",
     "text": [
      "C:\\Users\\DELL\\AppData\\Local\\Temp\\ipykernel_8352\\3410760027.py:1: DtypeWarning: Columns (14) have mixed types. Specify dtype option on import or set low_memory=False.\n",
      "  df = pd.read_csv('pda-matriculas-atendidas-rede-federal-epct-2017.csv', sep = ';' , encoding = 'latin1')\n"
     ]
    },
    {
     "data": {
      "text/html": [
       "<div>\n",
       "<style scoped>\n",
       "    .dataframe tbody tr th:only-of-type {\n",
       "        vertical-align: middle;\n",
       "    }\n",
       "\n",
       "    .dataframe tbody tr th {\n",
       "        vertical-align: top;\n",
       "    }\n",
       "\n",
       "    .dataframe thead th {\n",
       "        text-align: right;\n",
       "    }\n",
       "</style>\n",
       "<table border=\"1\" class=\"dataframe\">\n",
       "  <thead>\n",
       "    <tr style=\"text-align: right;\">\n",
       "      <th></th>\n",
       "      <th>ANO_INICIO_CURSO</th>\n",
       "      <th>ANO_PREVISTO_TERMINO_CURSO</th>\n",
       "      <th>CODIGO_IDENTIFICACAO_MEC</th>\n",
       "      <th>CPF_ALUNO</th>\n",
       "      <th>CODIGO_UNIDADE</th>\n",
       "      <th>NOME_UNIDADE</th>\n",
       "      <th>TIPO_OFERTA</th>\n",
       "      <th>NOME_CURSO</th>\n",
       "      <th>TIPO_CURSO</th>\n",
       "      <th>NOME_MODALIDADE</th>\n",
       "      <th>NOME_REGIAO_UNIDADE_ENSINO</th>\n",
       "      <th>SIGLA_UF_UNIDADE_ENSINO</th>\n",
       "      <th>NOME_MUNICIPIO_UNIDADE_ENSINO</th>\n",
       "      <th>NOME_MESORREGIAO_UNID_ENS</th>\n",
       "      <th>NOME_MICRORREGIAO_UNID_ENS</th>\n",
       "    </tr>\n",
       "  </thead>\n",
       "  <tbody>\n",
       "    <tr>\n",
       "      <th>0</th>\n",
       "      <td>2017</td>\n",
       "      <td>2017</td>\n",
       "      <td>73684575</td>\n",
       "      <td>***210791**</td>\n",
       "      <td>91</td>\n",
       "      <td>IFB - Campus Taguatinga Centro</td>\n",
       "      <td>Subsequente</td>\n",
       "      <td>Assistente Financeiro</td>\n",
       "      <td>Qualificação Profissional (FIC)</td>\n",
       "      <td>Educação Presencial</td>\n",
       "      <td>Centro-Oeste</td>\n",
       "      <td>DF</td>\n",
       "      <td>Brasília</td>\n",
       "      <td>Distrito Federal</td>\n",
       "      <td>Brasília</td>\n",
       "    </tr>\n",
       "    <tr>\n",
       "      <th>1</th>\n",
       "      <td>2017</td>\n",
       "      <td>2017</td>\n",
       "      <td>73684579</td>\n",
       "      <td>***294361**</td>\n",
       "      <td>91</td>\n",
       "      <td>IFB - Campus Taguatinga Centro</td>\n",
       "      <td>Subsequente</td>\n",
       "      <td>Assistente Financeiro</td>\n",
       "      <td>Qualificação Profissional (FIC)</td>\n",
       "      <td>Educação Presencial</td>\n",
       "      <td>Centro-Oeste</td>\n",
       "      <td>DF</td>\n",
       "      <td>Brasília</td>\n",
       "      <td>Distrito Federal</td>\n",
       "      <td>Brasília</td>\n",
       "    </tr>\n",
       "    <tr>\n",
       "      <th>2</th>\n",
       "      <td>2015</td>\n",
       "      <td>2017</td>\n",
       "      <td>71645524</td>\n",
       "      <td>***965800**</td>\n",
       "      <td>552</td>\n",
       "      <td>UFSM - POLITÉCNICO - Colégio Politécnico da Un...</td>\n",
       "      <td>Não se aplica</td>\n",
       "      <td>Ensino Médio</td>\n",
       "      <td>Ensino Médio</td>\n",
       "      <td>Educação Presencial</td>\n",
       "      <td>Sul</td>\n",
       "      <td>RS</td>\n",
       "      <td>Santa Maria</td>\n",
       "      <td>Centro Ocidental Rio-grandense</td>\n",
       "      <td>Santa Maria</td>\n",
       "    </tr>\n",
       "  </tbody>\n",
       "</table>\n",
       "</div>"
      ],
      "text/plain": [
       "   ANO_INICIO_CURSO  ANO_PREVISTO_TERMINO_CURSO  CODIGO_IDENTIFICACAO_MEC  \\\n",
       "0              2017                        2017                  73684575   \n",
       "1              2017                        2017                  73684579   \n",
       "2              2015                        2017                  71645524   \n",
       "\n",
       "     CPF_ALUNO  CODIGO_UNIDADE  \\\n",
       "0  ***210791**              91   \n",
       "1  ***294361**              91   \n",
       "2  ***965800**             552   \n",
       "\n",
       "                                        NOME_UNIDADE    TIPO_OFERTA  \\\n",
       "0                     IFB - Campus Taguatinga Centro    Subsequente   \n",
       "1                     IFB - Campus Taguatinga Centro    Subsequente   \n",
       "2  UFSM - POLITÉCNICO - Colégio Politécnico da Un...  Não se aplica   \n",
       "\n",
       "              NOME_CURSO                       TIPO_CURSO  \\\n",
       "0  Assistente Financeiro  Qualificação Profissional (FIC)   \n",
       "1  Assistente Financeiro  Qualificação Profissional (FIC)   \n",
       "2           Ensino Médio                     Ensino Médio   \n",
       "\n",
       "       NOME_MODALIDADE NOME_REGIAO_UNIDADE_ENSINO SIGLA_UF_UNIDADE_ENSINO  \\\n",
       "0  Educação Presencial               Centro-Oeste                      DF   \n",
       "1  Educação Presencial               Centro-Oeste                      DF   \n",
       "2  Educação Presencial                        Sul                      RS   \n",
       "\n",
       "  NOME_MUNICIPIO_UNIDADE_ENSINO       NOME_MESORREGIAO_UNID_ENS  \\\n",
       "0                      Brasília                Distrito Federal   \n",
       "1                      Brasília                Distrito Federal   \n",
       "2                   Santa Maria  Centro Ocidental Rio-grandense   \n",
       "\n",
       "  NOME_MICRORREGIAO_UNID_ENS  \n",
       "0                   Brasília  \n",
       "1                   Brasília  \n",
       "2                Santa Maria  "
      ]
     },
     "execution_count": 3,
     "metadata": {},
     "output_type": "execute_result"
    }
   ],
   "source": [
    "df = pd.read_csv('pda-matriculas-atendidas-rede-federal-epct-2017.csv', sep = ';' , encoding = 'latin1')\n",
    "df.head(3)"
   ]
  },
  {
   "cell_type": "markdown",
   "id": "e3b8557b",
   "metadata": {},
   "source": [
    "O Pandas ao carregar o dataframe acima encontrou divergência no tipo dos dados da coluna 14 (NOME_MICRORREGIAO_UNID_ENS), por este motivo foi gerada a mensagem de erro (em rosa) acima.\n",
    "\n",
    "Para solucionar este erro, será determinado o tipo da coluna como string no momento do carregamento do df."
   ]
  },
  {
   "cell_type": "code",
   "execution_count": 4,
   "id": "2cc2cd11",
   "metadata": {},
   "outputs": [
    {
     "data": {
      "text/html": [
       "<div>\n",
       "<style scoped>\n",
       "    .dataframe tbody tr th:only-of-type {\n",
       "        vertical-align: middle;\n",
       "    }\n",
       "\n",
       "    .dataframe tbody tr th {\n",
       "        vertical-align: top;\n",
       "    }\n",
       "\n",
       "    .dataframe thead th {\n",
       "        text-align: right;\n",
       "    }\n",
       "</style>\n",
       "<table border=\"1\" class=\"dataframe\">\n",
       "  <thead>\n",
       "    <tr style=\"text-align: right;\">\n",
       "      <th></th>\n",
       "      <th>ANO_INICIO_CURSO</th>\n",
       "      <th>ANO_PREVISTO_TERMINO_CURSO</th>\n",
       "      <th>CODIGO_IDENTIFICACAO_MEC</th>\n",
       "      <th>CPF_ALUNO</th>\n",
       "      <th>CODIGO_UNIDADE</th>\n",
       "      <th>NOME_UNIDADE</th>\n",
       "      <th>TIPO_OFERTA</th>\n",
       "      <th>NOME_CURSO</th>\n",
       "      <th>TIPO_CURSO</th>\n",
       "      <th>NOME_MODALIDADE</th>\n",
       "      <th>NOME_REGIAO_UNIDADE_ENSINO</th>\n",
       "      <th>SIGLA_UF_UNIDADE_ENSINO</th>\n",
       "      <th>NOME_MUNICIPIO_UNIDADE_ENSINO</th>\n",
       "      <th>NOME_MESORREGIAO_UNID_ENS</th>\n",
       "      <th>NOME_MICRORREGIAO_UNID_ENS</th>\n",
       "    </tr>\n",
       "  </thead>\n",
       "  <tbody>\n",
       "    <tr>\n",
       "      <th>0</th>\n",
       "      <td>2017</td>\n",
       "      <td>2017</td>\n",
       "      <td>73684575</td>\n",
       "      <td>***210791**</td>\n",
       "      <td>91</td>\n",
       "      <td>IFB - Campus Taguatinga Centro</td>\n",
       "      <td>Subsequente</td>\n",
       "      <td>Assistente Financeiro</td>\n",
       "      <td>Qualificação Profissional (FIC)</td>\n",
       "      <td>Educação Presencial</td>\n",
       "      <td>Centro-Oeste</td>\n",
       "      <td>DF</td>\n",
       "      <td>Brasília</td>\n",
       "      <td>Distrito Federal</td>\n",
       "      <td>Brasília</td>\n",
       "    </tr>\n",
       "    <tr>\n",
       "      <th>1</th>\n",
       "      <td>2017</td>\n",
       "      <td>2017</td>\n",
       "      <td>73684579</td>\n",
       "      <td>***294361**</td>\n",
       "      <td>91</td>\n",
       "      <td>IFB - Campus Taguatinga Centro</td>\n",
       "      <td>Subsequente</td>\n",
       "      <td>Assistente Financeiro</td>\n",
       "      <td>Qualificação Profissional (FIC)</td>\n",
       "      <td>Educação Presencial</td>\n",
       "      <td>Centro-Oeste</td>\n",
       "      <td>DF</td>\n",
       "      <td>Brasília</td>\n",
       "      <td>Distrito Federal</td>\n",
       "      <td>Brasília</td>\n",
       "    </tr>\n",
       "    <tr>\n",
       "      <th>2</th>\n",
       "      <td>2015</td>\n",
       "      <td>2017</td>\n",
       "      <td>71645524</td>\n",
       "      <td>***965800**</td>\n",
       "      <td>552</td>\n",
       "      <td>UFSM - POLITÉCNICO - Colégio Politécnico da Un...</td>\n",
       "      <td>Não se aplica</td>\n",
       "      <td>Ensino Médio</td>\n",
       "      <td>Ensino Médio</td>\n",
       "      <td>Educação Presencial</td>\n",
       "      <td>Sul</td>\n",
       "      <td>RS</td>\n",
       "      <td>Santa Maria</td>\n",
       "      <td>Centro Ocidental Rio-grandense</td>\n",
       "      <td>Santa Maria</td>\n",
       "    </tr>\n",
       "  </tbody>\n",
       "</table>\n",
       "</div>"
      ],
      "text/plain": [
       "   ANO_INICIO_CURSO  ANO_PREVISTO_TERMINO_CURSO  CODIGO_IDENTIFICACAO_MEC  \\\n",
       "0              2017                        2017                  73684575   \n",
       "1              2017                        2017                  73684579   \n",
       "2              2015                        2017                  71645524   \n",
       "\n",
       "     CPF_ALUNO  CODIGO_UNIDADE  \\\n",
       "0  ***210791**              91   \n",
       "1  ***294361**              91   \n",
       "2  ***965800**             552   \n",
       "\n",
       "                                        NOME_UNIDADE    TIPO_OFERTA  \\\n",
       "0                     IFB - Campus Taguatinga Centro    Subsequente   \n",
       "1                     IFB - Campus Taguatinga Centro    Subsequente   \n",
       "2  UFSM - POLITÉCNICO - Colégio Politécnico da Un...  Não se aplica   \n",
       "\n",
       "              NOME_CURSO                       TIPO_CURSO  \\\n",
       "0  Assistente Financeiro  Qualificação Profissional (FIC)   \n",
       "1  Assistente Financeiro  Qualificação Profissional (FIC)   \n",
       "2           Ensino Médio                     Ensino Médio   \n",
       "\n",
       "       NOME_MODALIDADE NOME_REGIAO_UNIDADE_ENSINO SIGLA_UF_UNIDADE_ENSINO  \\\n",
       "0  Educação Presencial               Centro-Oeste                      DF   \n",
       "1  Educação Presencial               Centro-Oeste                      DF   \n",
       "2  Educação Presencial                        Sul                      RS   \n",
       "\n",
       "  NOME_MUNICIPIO_UNIDADE_ENSINO       NOME_MESORREGIAO_UNID_ENS  \\\n",
       "0                      Brasília                Distrito Federal   \n",
       "1                      Brasília                Distrito Federal   \n",
       "2                   Santa Maria  Centro Ocidental Rio-grandense   \n",
       "\n",
       "  NOME_MICRORREGIAO_UNID_ENS  \n",
       "0                   Brasília  \n",
       "1                   Brasília  \n",
       "2                Santa Maria  "
      ]
     },
     "execution_count": 4,
     "metadata": {},
     "output_type": "execute_result"
    }
   ],
   "source": [
    "df = pd.read_csv('pda-matriculas-atendidas-rede-federal-epct-2017.csv', sep = ';' , encoding = 'latin1', dtype={'NOME_MICRORREGIAO_UNID_ENS': str})\n",
    "df.head(3)"
   ]
  },
  {
   "cell_type": "markdown",
   "id": "33a9a2c4",
   "metadata": {},
   "source": [
    "**Verificar os tipos das colunas/atributos**"
   ]
  },
  {
   "cell_type": "code",
   "execution_count": 5,
   "id": "4c9e5ba8",
   "metadata": {},
   "outputs": [
    {
     "name": "stdout",
     "output_type": "stream",
     "text": [
      "<class 'pandas.core.frame.DataFrame'>\n",
      "RangeIndex: 188858 entries, 0 to 188857\n",
      "Data columns (total 15 columns):\n",
      " #   Column                         Non-Null Count   Dtype \n",
      "---  ------                         --------------   ----- \n",
      " 0   ANO_INICIO_CURSO               188858 non-null  int64 \n",
      " 1   ANO_PREVISTO_TERMINO_CURSO     188858 non-null  int64 \n",
      " 2   CODIGO_IDENTIFICACAO_MEC       188858 non-null  int64 \n",
      " 3   CPF_ALUNO                      188858 non-null  object\n",
      " 4   CODIGO_UNIDADE                 188858 non-null  int64 \n",
      " 5   NOME_UNIDADE                   188858 non-null  object\n",
      " 6   TIPO_OFERTA                    188858 non-null  object\n",
      " 7   NOME_CURSO                     188858 non-null  object\n",
      " 8   TIPO_CURSO                     188858 non-null  object\n",
      " 9   NOME_MODALIDADE                188858 non-null  object\n",
      " 10  NOME_REGIAO_UNIDADE_ENSINO     188858 non-null  object\n",
      " 11  SIGLA_UF_UNIDADE_ENSINO        188858 non-null  object\n",
      " 12  NOME_MUNICIPIO_UNIDADE_ENSINO  188858 non-null  object\n",
      " 13  NOME_MESORREGIAO_UNID_ENS      188858 non-null  object\n",
      " 14  NOME_MICRORREGIAO_UNID_ENS     67959 non-null   object\n",
      "dtypes: int64(4), object(11)\n",
      "memory usage: 21.6+ MB\n"
     ]
    }
   ],
   "source": [
    "df.info()"
   ]
  },
  {
   "cell_type": "markdown",
   "id": "c0ce65e9",
   "metadata": {},
   "source": [
    "Os valores dos campos da coluna 'CODIGO_UNIDADE' não serão empregados em cálculos, não possui lógica numérica.\n",
    "Tais dados se comportam como categóricos."
   ]
  },
  {
   "cell_type": "code",
   "execution_count": 6,
   "id": "29a295ab",
   "metadata": {},
   "outputs": [
    {
     "name": "stdout",
     "output_type": "stream",
     "text": [
      "<class 'pandas.core.frame.DataFrame'>\n",
      "RangeIndex: 188858 entries, 0 to 188857\n",
      "Data columns (total 15 columns):\n",
      " #   Column                         Non-Null Count   Dtype \n",
      "---  ------                         --------------   ----- \n",
      " 0   ANO_INICIO_CURSO               188858 non-null  int64 \n",
      " 1   ANO_PREVISTO_TERMINO_CURSO     188858 non-null  int64 \n",
      " 2   CODIGO_IDENTIFICACAO_MEC       188858 non-null  int64 \n",
      " 3   CPF_ALUNO                      188858 non-null  object\n",
      " 4   CODIGO_UNIDADE                 188858 non-null  object\n",
      " 5   NOME_UNIDADE                   188858 non-null  object\n",
      " 6   TIPO_OFERTA                    188858 non-null  object\n",
      " 7   NOME_CURSO                     188858 non-null  object\n",
      " 8   TIPO_CURSO                     188858 non-null  object\n",
      " 9   NOME_MODALIDADE                188858 non-null  object\n",
      " 10  NOME_REGIAO_UNIDADE_ENSINO     188858 non-null  object\n",
      " 11  SIGLA_UF_UNIDADE_ENSINO        188858 non-null  object\n",
      " 12  NOME_MUNICIPIO_UNIDADE_ENSINO  188858 non-null  object\n",
      " 13  NOME_MESORREGIAO_UNID_ENS      188858 non-null  object\n",
      " 14  NOME_MICRORREGIAO_UNID_ENS     67959 non-null   object\n",
      "dtypes: int64(3), object(12)\n",
      "memory usage: 21.6+ MB\n"
     ]
    }
   ],
   "source": [
    "#Alterar o tipo da coluna para object\n",
    "\n",
    "df['CODIGO_UNIDADE'] = df['CODIGO_UNIDADE'].astype(object)\n",
    "df.info()"
   ]
  },
  {
   "cell_type": "markdown",
   "id": "e54354fe",
   "metadata": {},
   "source": [
    "## Análise dos dados"
   ]
  },
  {
   "cell_type": "markdown",
   "id": "0cb99ec9",
   "metadata": {},
   "source": [
    "**Mostrar os 5 primeiros registros do DataFrame**"
   ]
  },
  {
   "cell_type": "code",
   "execution_count": 7,
   "id": "b802a693",
   "metadata": {},
   "outputs": [
    {
     "data": {
      "text/html": [
       "<div>\n",
       "<style scoped>\n",
       "    .dataframe tbody tr th:only-of-type {\n",
       "        vertical-align: middle;\n",
       "    }\n",
       "\n",
       "    .dataframe tbody tr th {\n",
       "        vertical-align: top;\n",
       "    }\n",
       "\n",
       "    .dataframe thead th {\n",
       "        text-align: right;\n",
       "    }\n",
       "</style>\n",
       "<table border=\"1\" class=\"dataframe\">\n",
       "  <thead>\n",
       "    <tr style=\"text-align: right;\">\n",
       "      <th></th>\n",
       "      <th>ANO_INICIO_CURSO</th>\n",
       "      <th>ANO_PREVISTO_TERMINO_CURSO</th>\n",
       "      <th>CODIGO_IDENTIFICACAO_MEC</th>\n",
       "      <th>CPF_ALUNO</th>\n",
       "      <th>CODIGO_UNIDADE</th>\n",
       "      <th>NOME_UNIDADE</th>\n",
       "      <th>TIPO_OFERTA</th>\n",
       "      <th>NOME_CURSO</th>\n",
       "      <th>TIPO_CURSO</th>\n",
       "      <th>NOME_MODALIDADE</th>\n",
       "      <th>NOME_REGIAO_UNIDADE_ENSINO</th>\n",
       "      <th>SIGLA_UF_UNIDADE_ENSINO</th>\n",
       "      <th>NOME_MUNICIPIO_UNIDADE_ENSINO</th>\n",
       "      <th>NOME_MESORREGIAO_UNID_ENS</th>\n",
       "      <th>NOME_MICRORREGIAO_UNID_ENS</th>\n",
       "    </tr>\n",
       "  </thead>\n",
       "  <tbody>\n",
       "    <tr>\n",
       "      <th>0</th>\n",
       "      <td>2017</td>\n",
       "      <td>2017</td>\n",
       "      <td>73684575</td>\n",
       "      <td>***210791**</td>\n",
       "      <td>91</td>\n",
       "      <td>IFB - Campus Taguatinga Centro</td>\n",
       "      <td>Subsequente</td>\n",
       "      <td>Assistente Financeiro</td>\n",
       "      <td>Qualificação Profissional (FIC)</td>\n",
       "      <td>Educação Presencial</td>\n",
       "      <td>Centro-Oeste</td>\n",
       "      <td>DF</td>\n",
       "      <td>Brasília</td>\n",
       "      <td>Distrito Federal</td>\n",
       "      <td>Brasília</td>\n",
       "    </tr>\n",
       "    <tr>\n",
       "      <th>1</th>\n",
       "      <td>2017</td>\n",
       "      <td>2017</td>\n",
       "      <td>73684579</td>\n",
       "      <td>***294361**</td>\n",
       "      <td>91</td>\n",
       "      <td>IFB - Campus Taguatinga Centro</td>\n",
       "      <td>Subsequente</td>\n",
       "      <td>Assistente Financeiro</td>\n",
       "      <td>Qualificação Profissional (FIC)</td>\n",
       "      <td>Educação Presencial</td>\n",
       "      <td>Centro-Oeste</td>\n",
       "      <td>DF</td>\n",
       "      <td>Brasília</td>\n",
       "      <td>Distrito Federal</td>\n",
       "      <td>Brasília</td>\n",
       "    </tr>\n",
       "    <tr>\n",
       "      <th>2</th>\n",
       "      <td>2015</td>\n",
       "      <td>2017</td>\n",
       "      <td>71645524</td>\n",
       "      <td>***965800**</td>\n",
       "      <td>552</td>\n",
       "      <td>UFSM - POLITÉCNICO - Colégio Politécnico da Un...</td>\n",
       "      <td>Não se aplica</td>\n",
       "      <td>Ensino Médio</td>\n",
       "      <td>Ensino Médio</td>\n",
       "      <td>Educação Presencial</td>\n",
       "      <td>Sul</td>\n",
       "      <td>RS</td>\n",
       "      <td>Santa Maria</td>\n",
       "      <td>Centro Ocidental Rio-grandense</td>\n",
       "      <td>Santa Maria</td>\n",
       "    </tr>\n",
       "    <tr>\n",
       "      <th>3</th>\n",
       "      <td>2015</td>\n",
       "      <td>2017</td>\n",
       "      <td>64650542</td>\n",
       "      <td>***395441**</td>\n",
       "      <td>388</td>\n",
       "      <td>IFRJ - Campus Pinheiral</td>\n",
       "      <td>Integrado</td>\n",
       "      <td>Técnico em Informática</td>\n",
       "      <td>Técnico</td>\n",
       "      <td>Educação Presencial</td>\n",
       "      <td>Sudeste</td>\n",
       "      <td>RJ</td>\n",
       "      <td>Pinheiral</td>\n",
       "      <td>Sul Fluminense</td>\n",
       "      <td>Vale do Paraíba Fluminense</td>\n",
       "    </tr>\n",
       "    <tr>\n",
       "      <th>4</th>\n",
       "      <td>2017</td>\n",
       "      <td>2017</td>\n",
       "      <td>72599807</td>\n",
       "      <td>***591759**</td>\n",
       "      <td>127</td>\n",
       "      <td>IFC - Campus Brusque</td>\n",
       "      <td>Não se aplica</td>\n",
       "      <td>Qualificação Profissional - Desenvolvimento Ed...</td>\n",
       "      <td>Qualificação Profissional (FIC)</td>\n",
       "      <td>Educação Presencial</td>\n",
       "      <td>Sul</td>\n",
       "      <td>SC</td>\n",
       "      <td>Brusque</td>\n",
       "      <td>Vale do Itajaí</td>\n",
       "      <td>Blumenau</td>\n",
       "    </tr>\n",
       "  </tbody>\n",
       "</table>\n",
       "</div>"
      ],
      "text/plain": [
       "   ANO_INICIO_CURSO  ANO_PREVISTO_TERMINO_CURSO  CODIGO_IDENTIFICACAO_MEC  \\\n",
       "0              2017                        2017                  73684575   \n",
       "1              2017                        2017                  73684579   \n",
       "2              2015                        2017                  71645524   \n",
       "3              2015                        2017                  64650542   \n",
       "4              2017                        2017                  72599807   \n",
       "\n",
       "     CPF_ALUNO CODIGO_UNIDADE  \\\n",
       "0  ***210791**             91   \n",
       "1  ***294361**             91   \n",
       "2  ***965800**            552   \n",
       "3  ***395441**            388   \n",
       "4  ***591759**            127   \n",
       "\n",
       "                                        NOME_UNIDADE    TIPO_OFERTA  \\\n",
       "0                     IFB - Campus Taguatinga Centro    Subsequente   \n",
       "1                     IFB - Campus Taguatinga Centro    Subsequente   \n",
       "2  UFSM - POLITÉCNICO - Colégio Politécnico da Un...  Não se aplica   \n",
       "3                            IFRJ - Campus Pinheiral      Integrado   \n",
       "4                               IFC - Campus Brusque  Não se aplica   \n",
       "\n",
       "                                          NOME_CURSO  \\\n",
       "0                              Assistente Financeiro   \n",
       "1                              Assistente Financeiro   \n",
       "2                                       Ensino Médio   \n",
       "3                             Técnico em Informática   \n",
       "4  Qualificação Profissional - Desenvolvimento Ed...   \n",
       "\n",
       "                        TIPO_CURSO      NOME_MODALIDADE  \\\n",
       "0  Qualificação Profissional (FIC)  Educação Presencial   \n",
       "1  Qualificação Profissional (FIC)  Educação Presencial   \n",
       "2                     Ensino Médio  Educação Presencial   \n",
       "3                          Técnico  Educação Presencial   \n",
       "4  Qualificação Profissional (FIC)  Educação Presencial   \n",
       "\n",
       "  NOME_REGIAO_UNIDADE_ENSINO SIGLA_UF_UNIDADE_ENSINO  \\\n",
       "0               Centro-Oeste                      DF   \n",
       "1               Centro-Oeste                      DF   \n",
       "2                        Sul                      RS   \n",
       "3                    Sudeste                      RJ   \n",
       "4                        Sul                      SC   \n",
       "\n",
       "  NOME_MUNICIPIO_UNIDADE_ENSINO       NOME_MESORREGIAO_UNID_ENS  \\\n",
       "0                      Brasília                Distrito Federal   \n",
       "1                      Brasília                Distrito Federal   \n",
       "2                   Santa Maria  Centro Ocidental Rio-grandense   \n",
       "3                     Pinheiral                  Sul Fluminense   \n",
       "4                       Brusque                  Vale do Itajaí   \n",
       "\n",
       "   NOME_MICRORREGIAO_UNID_ENS  \n",
       "0                    Brasília  \n",
       "1                    Brasília  \n",
       "2                 Santa Maria  \n",
       "3  Vale do Paraíba Fluminense  \n",
       "4                    Blumenau  "
      ]
     },
     "execution_count": 7,
     "metadata": {},
     "output_type": "execute_result"
    }
   ],
   "source": [
    "df.head()"
   ]
  },
  {
   "cell_type": "markdown",
   "id": "fcac714d",
   "metadata": {},
   "source": [
    "**Quantos estados possuem oferta de cursos?**\n"
   ]
  },
  {
   "cell_type": "code",
   "execution_count": 8,
   "id": "c37c2d36",
   "metadata": {},
   "outputs": [
    {
     "name": "stdout",
     "output_type": "stream",
     "text": [
      "27 estados brasileiros ofertam cursos\n"
     ]
    }
   ],
   "source": [
    "n_estados = df['SIGLA_UF_UNIDADE_ENSINO'].nunique()\n",
    "print(f\"{n_estados} estados brasileiros ofertam cursos\")"
   ]
  },
  {
   "cell_type": "markdown",
   "id": "d1610ae8",
   "metadata": {},
   "source": [
    "Pelo número retornado, todos os estados mais o distrido federal ofertam cursos."
   ]
  },
  {
   "cell_type": "markdown",
   "id": "06039cfb",
   "metadata": {},
   "source": [
    "**Qual o número total de unidades?**"
   ]
  },
  {
   "cell_type": "code",
   "execution_count": 9,
   "id": "77492527",
   "metadata": {},
   "outputs": [
    {
     "name": "stdout",
     "output_type": "stream",
     "text": [
      "621 unidades.\n"
     ]
    }
   ],
   "source": [
    "n_unidades = df['CODIGO_UNIDADE'].nunique()\n",
    "print(f\"{n_unidades} unidades.\")"
   ]
  },
  {
   "cell_type": "markdown",
   "id": "1d506013",
   "metadata": {},
   "source": [
    "**Quantas unidades possuem em cada estado?**"
   ]
  },
  {
   "cell_type": "code",
   "execution_count": 17,
   "id": "00c6d48d",
   "metadata": {},
   "outputs": [
    {
     "data": {
      "text/plain": [
       "MG    21752\n",
       "RN    19589\n",
       "SP    18484\n",
       "SC    15171\n",
       "RJ    14613\n",
       "RS    12007\n",
       "BA     8366\n",
       "PE     7792\n",
       "CE     7722\n",
       "ES     7213\n",
       "GO     6100\n",
       "RO     5276\n",
       "PI     4603\n",
       "MA     4584\n",
       "AM     4440\n",
       "PR     4167\n",
       "PA     3843\n",
       "AL     3473\n",
       "MT     3378\n",
       "PB     2778\n",
       "AP     2452\n",
       "SE     2374\n",
       "MS     2234\n",
       "TO     2223\n",
       "DF     2135\n",
       "AC     1128\n",
       "RR      961\n",
       "Name: SIGLA_UF_UNIDADE_ENSINO, dtype: int64"
      ]
     },
     "execution_count": 17,
     "metadata": {},
     "output_type": "execute_result"
    }
   ],
   "source": [
    "# Solução 1\n",
    "df[\"SIGLA_UF_UNIDADE_ENSINO\"].value_counts()"
   ]
  },
  {
   "cell_type": "code",
   "execution_count": 19,
   "id": "6d5a203c",
   "metadata": {},
   "outputs": [
    {
     "data": {
      "text/html": [
       "<div>\n",
       "<style scoped>\n",
       "    .dataframe tbody tr th:only-of-type {\n",
       "        vertical-align: middle;\n",
       "    }\n",
       "\n",
       "    .dataframe tbody tr th {\n",
       "        vertical-align: top;\n",
       "    }\n",
       "\n",
       "    .dataframe thead th {\n",
       "        text-align: right;\n",
       "    }\n",
       "</style>\n",
       "<table border=\"1\" class=\"dataframe\">\n",
       "  <thead>\n",
       "    <tr style=\"text-align: right;\">\n",
       "      <th></th>\n",
       "      <th>CODIGO_UNIDADE</th>\n",
       "    </tr>\n",
       "    <tr>\n",
       "      <th>SIGLA_UF_UNIDADE_ENSINO</th>\n",
       "      <th></th>\n",
       "    </tr>\n",
       "  </thead>\n",
       "  <tbody>\n",
       "    <tr>\n",
       "      <th>AC</th>\n",
       "      <td>1128</td>\n",
       "    </tr>\n",
       "    <tr>\n",
       "      <th>AL</th>\n",
       "      <td>3473</td>\n",
       "    </tr>\n",
       "    <tr>\n",
       "      <th>AM</th>\n",
       "      <td>4440</td>\n",
       "    </tr>\n",
       "    <tr>\n",
       "      <th>AP</th>\n",
       "      <td>2452</td>\n",
       "    </tr>\n",
       "    <tr>\n",
       "      <th>BA</th>\n",
       "      <td>8366</td>\n",
       "    </tr>\n",
       "    <tr>\n",
       "      <th>CE</th>\n",
       "      <td>7722</td>\n",
       "    </tr>\n",
       "    <tr>\n",
       "      <th>DF</th>\n",
       "      <td>2135</td>\n",
       "    </tr>\n",
       "    <tr>\n",
       "      <th>ES</th>\n",
       "      <td>7213</td>\n",
       "    </tr>\n",
       "    <tr>\n",
       "      <th>GO</th>\n",
       "      <td>6100</td>\n",
       "    </tr>\n",
       "    <tr>\n",
       "      <th>MA</th>\n",
       "      <td>4584</td>\n",
       "    </tr>\n",
       "    <tr>\n",
       "      <th>MG</th>\n",
       "      <td>21752</td>\n",
       "    </tr>\n",
       "    <tr>\n",
       "      <th>MS</th>\n",
       "      <td>2234</td>\n",
       "    </tr>\n",
       "    <tr>\n",
       "      <th>MT</th>\n",
       "      <td>3378</td>\n",
       "    </tr>\n",
       "    <tr>\n",
       "      <th>PA</th>\n",
       "      <td>3843</td>\n",
       "    </tr>\n",
       "    <tr>\n",
       "      <th>PB</th>\n",
       "      <td>2778</td>\n",
       "    </tr>\n",
       "    <tr>\n",
       "      <th>PE</th>\n",
       "      <td>7792</td>\n",
       "    </tr>\n",
       "    <tr>\n",
       "      <th>PI</th>\n",
       "      <td>4603</td>\n",
       "    </tr>\n",
       "    <tr>\n",
       "      <th>PR</th>\n",
       "      <td>4167</td>\n",
       "    </tr>\n",
       "    <tr>\n",
       "      <th>RJ</th>\n",
       "      <td>14613</td>\n",
       "    </tr>\n",
       "    <tr>\n",
       "      <th>RN</th>\n",
       "      <td>19589</td>\n",
       "    </tr>\n",
       "    <tr>\n",
       "      <th>RO</th>\n",
       "      <td>5276</td>\n",
       "    </tr>\n",
       "    <tr>\n",
       "      <th>RR</th>\n",
       "      <td>961</td>\n",
       "    </tr>\n",
       "    <tr>\n",
       "      <th>RS</th>\n",
       "      <td>12007</td>\n",
       "    </tr>\n",
       "    <tr>\n",
       "      <th>SC</th>\n",
       "      <td>15171</td>\n",
       "    </tr>\n",
       "    <tr>\n",
       "      <th>SE</th>\n",
       "      <td>2374</td>\n",
       "    </tr>\n",
       "    <tr>\n",
       "      <th>SP</th>\n",
       "      <td>18484</td>\n",
       "    </tr>\n",
       "    <tr>\n",
       "      <th>TO</th>\n",
       "      <td>2223</td>\n",
       "    </tr>\n",
       "  </tbody>\n",
       "</table>\n",
       "</div>"
      ],
      "text/plain": [
       "                         CODIGO_UNIDADE\n",
       "SIGLA_UF_UNIDADE_ENSINO                \n",
       "AC                                 1128\n",
       "AL                                 3473\n",
       "AM                                 4440\n",
       "AP                                 2452\n",
       "BA                                 8366\n",
       "CE                                 7722\n",
       "DF                                 2135\n",
       "ES                                 7213\n",
       "GO                                 6100\n",
       "MA                                 4584\n",
       "MG                                21752\n",
       "MS                                 2234\n",
       "MT                                 3378\n",
       "PA                                 3843\n",
       "PB                                 2778\n",
       "PE                                 7792\n",
       "PI                                 4603\n",
       "PR                                 4167\n",
       "RJ                                14613\n",
       "RN                                19589\n",
       "RO                                 5276\n",
       "RR                                  961\n",
       "RS                                12007\n",
       "SC                                15171\n",
       "SE                                 2374\n",
       "SP                                18484\n",
       "TO                                 2223"
      ]
     },
     "execution_count": 19,
     "metadata": {},
     "output_type": "execute_result"
    }
   ],
   "source": [
    "# Solução 2\n",
    "unidades_por_estado = df[['SIGLA_UF_UNIDADE_ENSINO','CODIGO_UNIDADE']].groupby('SIGLA_UF_UNIDADE_ENSINO').count()\n",
    "unidades_por_estado"
   ]
  },
  {
   "cell_type": "markdown",
   "id": "0f5059e9",
   "metadata": {},
   "source": [
    "**Quais são os cinco estados que mais possuem unidades disponibilizando cursos pela Rede Federal de EPCT?**"
   ]
  },
  {
   "cell_type": "code",
   "execution_count": 12,
   "id": "6caaac0d",
   "metadata": {
    "scrolled": true
   },
   "outputs": [
    {
     "data": {
      "text/html": [
       "<div>\n",
       "<style scoped>\n",
       "    .dataframe tbody tr th:only-of-type {\n",
       "        vertical-align: middle;\n",
       "    }\n",
       "\n",
       "    .dataframe tbody tr th {\n",
       "        vertical-align: top;\n",
       "    }\n",
       "\n",
       "    .dataframe thead th {\n",
       "        text-align: right;\n",
       "    }\n",
       "</style>\n",
       "<table border=\"1\" class=\"dataframe\">\n",
       "  <thead>\n",
       "    <tr style=\"text-align: right;\">\n",
       "      <th></th>\n",
       "      <th>CODIGO_UNIDADE</th>\n",
       "    </tr>\n",
       "    <tr>\n",
       "      <th>SIGLA_UF_UNIDADE_ENSINO</th>\n",
       "      <th></th>\n",
       "    </tr>\n",
       "  </thead>\n",
       "  <tbody>\n",
       "    <tr>\n",
       "      <th>MG</th>\n",
       "      <td>21752</td>\n",
       "    </tr>\n",
       "    <tr>\n",
       "      <th>RN</th>\n",
       "      <td>19589</td>\n",
       "    </tr>\n",
       "    <tr>\n",
       "      <th>SP</th>\n",
       "      <td>18484</td>\n",
       "    </tr>\n",
       "    <tr>\n",
       "      <th>SC</th>\n",
       "      <td>15171</td>\n",
       "    </tr>\n",
       "    <tr>\n",
       "      <th>RJ</th>\n",
       "      <td>14613</td>\n",
       "    </tr>\n",
       "  </tbody>\n",
       "</table>\n",
       "</div>"
      ],
      "text/plain": [
       "                         CODIGO_UNIDADE\n",
       "SIGLA_UF_UNIDADE_ENSINO                \n",
       "MG                                21752\n",
       "RN                                19589\n",
       "SP                                18484\n",
       "SC                                15171\n",
       "RJ                                14613"
      ]
     },
     "metadata": {},
     "output_type": "display_data"
    }
   ],
   "source": [
    "display(unidades_por_estado.nlargest(5,'CODIGO_UNIDADE'))\n"
   ]
  },
  {
   "cell_type": "code",
   "execution_count": 20,
   "id": "73ff0a28",
   "metadata": {},
   "outputs": [
    {
     "data": {
      "image/png": "[encoded data removed]",
      "text/plain": [
       "<Figure size 640x480 with 1 Axes>"
      ]
     },
     "metadata": {},
     "output_type": "display_data"
    }
   ],
   "source": [
    "%matplotlib inline\n",
    "grafico1 = unidades_por_estado.nlargest(5,'CODIGO_UNIDADE').plot.bar()\n",
    "\n",
    "# Adicionar rótulos de dados\n",
    "for p in grafico1.patches:\n",
    "    height = p.get_height()\n",
    "    grafico1.annotate(str(height), (p.get_x() + p.get_width() / 2, height), ha='center', va='bottom')\n",
    "    \n",
    "# Adicionar título ao gráfico\n",
    "grafico1.set_title('Número de Unidades por Estado - TOP 5')\n",
    "\n",
    "# Exibir o gráfico\n",
    "plt.show()"
   ]
  },
  {
   "cell_type": "markdown",
   "id": "ada6880f",
   "metadata": {},
   "source": [
    "**Quantos tipos de cursos disponibilizados?**"
   ]
  },
  {
   "cell_type": "code",
   "execution_count": 14,
   "id": "6fadb7ad",
   "metadata": {},
   "outputs": [
    {
     "name": "stdout",
     "output_type": "stream",
     "text": [
      "São disponibilizados 12 tipos de cursos\n"
     ]
    }
   ],
   "source": [
    "n_curso = df['TIPO_CURSO'].nunique()\n",
    "print(f\"São disponibilizados {n_curso} tipos de cursos\")"
   ]
  },
  {
   "cell_type": "markdown",
   "id": "210acb9c",
   "metadata": {},
   "source": [
    "**Tipo de curso e número de turmas:**"
   ]
  },
  {
   "cell_type": "code",
   "execution_count": 15,
   "id": "8e92dc0b",
   "metadata": {},
   "outputs": [
    {
     "data": {
      "text/plain": [
       "188858"
      ]
     },
     "execution_count": 15,
     "metadata": {},
     "output_type": "execute_result"
    }
   ],
   "source": [
    "# Contagem de valores únicos na coluna CODIGO_IDENTIFICACAO_MEC:\n",
    "df['CODIGO_IDENTIFICACAO_MEC'].nunique()\n"
   ]
  },
  {
   "cell_type": "markdown",
   "id": "1be2e000",
   "metadata": {},
   "source": [
    "Como o número de linhas é igual a contagem distinta de valores da coluna em questão (CODIGO_IDENTIFICACAO_MEC), intende-se que cada registro se refere a uma turma distinta, logo o número de linhas = n° de turmas"
   ]
  },
  {
   "cell_type": "code",
   "execution_count": 16,
   "id": "764a42ad",
   "metadata": {},
   "outputs": [
    {
     "name": "stdout",
     "output_type": "stream",
     "text": [
      "\u001b[1mTipo de curso e número de turmas: \u001b[m \n",
      "Técnico                            81259\n",
      "Qualificação Profissional (FIC)    80469\n",
      "Tecnologia                          7642\n",
      "Bacharelado                         5244\n",
      "Licenciatura                        4895\n",
      "Especialização (Lato Sensu)         4083\n",
      "Ensino Médio                        2794\n",
      "Ensino Fundamental II                951\n",
      "Ensino Fundamental I                 644\n",
      "Mestrado Profissional                513\n",
      "Mestrado                             339\n",
      "Doutorado                             25\n",
      "Name: TIPO_CURSO, dtype: int64\n"
     ]
    }
   ],
   "source": [
    "tipo_curso = df['TIPO_CURSO'].value_counts()\n",
    "print(f'\\033[1mTipo de curso e número de turmas: \\33[m \\n{tipo_curso}')"
   ]
  },
  {
   "cell_type": "code",
   "execution_count": null,
   "id": "3a6d7903",
   "metadata": {},
   "outputs": [],
   "source": []
  }
 ],
 "metadata": {
  "kernelspec": {
   "display_name": "Python 3 (ipykernel)",
   "language": "python",
   "name": "python3"
  },
  "language_info": {
   "codemirror_mode": {
    "name": "ipython",
    "version": 3
   },
   "file_extension": ".py",
   "mimetype": "text/x-python",
   "name": "python",
   "nbconvert_exporter": "python",
   "pygments_lexer": "ipython3",
   "version": "3.9.13"
  }
 },
 "nbformat": 4,
 "nbformat_minor": 5
}

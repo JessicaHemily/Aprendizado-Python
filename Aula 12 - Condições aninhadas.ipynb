{
 "cells": [
  {
   "cell_type": "markdown",
   "id": "44579d3e",
   "metadata": {},
   "source": [
    "Condições Aninhadas\n",
    "\n",
    "if condição:\n",
    "\n",
    "    bloco 1\n",
    "    \n",
    "elif condição:\n",
    "\n",
    "    bloco 2\n",
    "    \n",
    "else:\n",
    "\n",
    "    bloco 3"
   ]
  },
  {
   "cell_type": "markdown",
   "id": "658f0909",
   "metadata": {},
   "source": [
    "**DESAFIOS**"
   ]
  },
  {
   "cell_type": "markdown",
   "id": "1bae353e",
   "metadata": {},
   "source": [
    "**(36) Escreva um programa para aprovar um empréstimo bancário para a compra de uma casa. O programa vai perguntar o valor da casa, o salário do comprador e em quantos anos ele vai pagar. Calcule o valor da prestação mensal, sabendo que ela não pode exceder 30% do salário ou então o empréstimo será negado.**"
   ]
  },
  {
   "cell_type": "code",
   "execution_count": 4,
   "id": "901aef86",
   "metadata": {},
   "outputs": [
    {
     "name": "stdout",
     "output_type": "stream",
     "text": [
      "Qual o valor da casa? 150000\n",
      "Qual o valor do seu salário? 1500\n",
      "Em quantos anos pretende pagar? 20\n",
      "Empréstimo \u001b[1;31mNegado!\n"
     ]
    }
   ],
   "source": [
    "valor_casa = float(input(\"Qual o valor da casa? \"))\n",
    "salario = float(input(\"Qual o valor do seu salário? \"))\n",
    "tempo = float(input(\"Em quantos anos pretende pagar? \"))\n",
    "\n",
    "valor_mensal = valor_casa/(12 * tempo)\n",
    "porcentagem = valor_mensal *100 / salario\n",
    "\n",
    "if porcentagem<30:\n",
    "    print(\"Empréstimo \\033[1;32maprovado!\")\n",
    "    print(f\"Sua mensalidade será de {valor_mensal}\")\n",
    "else:\n",
    "    print(\"Empréstimo \\033[1;31mNegado!\")"
   ]
  },
  {
   "cell_type": "markdown",
   "id": "6daa48df",
   "metadata": {},
   "source": [
    "**(37) Escreva um programa que leia um número inteiro qualquer e peça para o usuário escolher qual será a base de conversão: (1)Binário, (2)Octal ou (3)Hexadecimal.**"
   ]
  },
  {
   "cell_type": "code",
   "execution_count": null,
   "id": "bcc33e07",
   "metadata": {},
   "outputs": [],
   "source": []
  },
  {
   "cell_type": "markdown",
   "id": "a838d7c4",
   "metadata": {},
   "source": [
    "**(37) Escreva um programa que leia 2 números inteiros e compare-os, mostrando na tela uma mensagem:**\n",
    "    \n",
    "    O primeiro valor é maior;\n",
    "    O segundo valor é maior;\n",
    "    Não existe valor maior, os dois são iguais."
   ]
  },
  {
   "cell_type": "code",
   "execution_count": 22,
   "id": "27f125e0",
   "metadata": {},
   "outputs": [
    {
     "name": "stdout",
     "output_type": "stream",
     "text": [
      "Digite um número inteiro: 9\n",
      "Digite um segundo número inteiro: 9\n",
      "\n",
      "\u001b[7;30mNão existe valor maior, os dois são iguais!\n"
     ]
    }
   ],
   "source": [
    "num1 = int(input(\"Digite um número inteiro: \"))\n",
    "num2 = int(input(\"Digite um segundo número inteiro: \"))\n",
    "\n",
    "if num1>num2:\n",
    "    print(\"\\nO primeiro valor é \\033[1;31mmaior!\")\n",
    "elif num2>num1:\n",
    "    print(\"\\nO segundo valor é \\033[1;31mmaior!\")\n",
    "else:\n",
    "    print(\"\\n\\033[7;30mNão existe valor maior, os dois são iguais!\")\n"
   ]
  },
  {
   "cell_type": "markdown",
   "id": "f4632710",
   "metadata": {},
   "source": [
    "**(40) Escreva um programa que leia 2 notas de um aluno e calcule sua média, mostrando uma mensagem no final, de acordo com a média atingida.**"
   ]
  },
  {
   "cell_type": "code",
   "execution_count": 28,
   "id": "49264c54",
   "metadata": {},
   "outputs": [
    {
     "name": "stdout",
     "output_type": "stream",
     "text": [
      "Digite sua primeira nota: 5\n",
      "Digite sua segunda nota: 4.2\n",
      "Média = 4.6\n",
      "\n",
      "Média abaixo de 5.0: \u001b[1;31mREPROVADO!\n"
     ]
    }
   ],
   "source": [
    "nota1 = float(input(\"Digite sua primeira nota: \"))\n",
    "nota2 = float(input(\"Digite sua segunda nota: \"))\n",
    "\n",
    "media = (nota1 + nota2)/2\n",
    "print(f\"Média = {media}\")\n",
    "\n",
    "if media>7:\n",
    "    print(\"\\nMédia 7.0 ou superior: \\033[1;32mAPROVADO!\")\n",
    "elif media>5:\n",
    "    print(\"\\nMédia entre 5.0 e 6.9: \\033[1;31mRECUPERAÇÃO!\")\n",
    "else:\n",
    "    print(\"\\nMédia abaixo de 5.0: \\033[1;31mREPROVADO!\")\n"
   ]
  },
  {
   "cell_type": "markdown",
   "id": "8271ff78",
   "metadata": {},
   "source": [
    "**(45) Crie um programa que faça o computador jogar Jokenpô com você.**"
   ]
  },
  {
   "cell_type": "code",
   "execution_count": 81,
   "id": "e55e76f5",
   "metadata": {},
   "outputs": [
    {
     "name": "stdout",
     "output_type": "stream",
     "text": [
      "\u001b[1mVamos Jogar Jokenpô!\u001b[m\n",
      "Escolha entre PEDRA, PAPEL e TESOURA: pedra\n",
      "O computador escolheu: PAPEL\n",
      "\n",
      "JO\n",
      "KEN\n",
      "PÔ!!!\n",
      "\n",
      "*.*.*.*.*.*.*.*.*.*.*.*.*.*.*.*.*.*.*.*.*.*.\n",
      "\n",
      "\u001b[1;31mO computador venceu o jogo!\n"
     ]
    }
   ],
   "source": [
    "import random\n",
    "import time\n",
    "print(\"\\033[1mVamos Jogar Jokenpô!\\033[m\")\n",
    "jogador = input(\"Escolha entre PEDRA, PAPEL e TESOURA: \").upper().strip()\n",
    "lista = [\"PEDRA\",\"PAPEL\",\"TESOURA\"]\n",
    "pc = random.choice(lista)\n",
    "print(f\"O computador escolheu: {pc}\")\n",
    "\n",
    "print(\"\\nJO\")\n",
    "time.sleep(1)\n",
    "print(\"KEN\")\n",
    "time.sleep(1)\n",
    "print('PÔ!!!\\n')\n",
    "time.sleep(1)\n",
    "print(\"*.\"*22)\n",
    "\n",
    "if jogador ==pc:\n",
    "    print(\"\\n\\033[1mEMPATE!\")\n",
    "    \n",
    "if jogador ==\"PEDRA\":\n",
    "    if pc==\"TESOURA\":\n",
    "        print(\"\\nO jogador venceu o computador! \\n\\033[1mPARABÉNS!\")\n",
    "    elif pc==\"PAPEL\":\n",
    "        print(\"\\n\\033[1;31mO computador venceu o jogo!\")\n",
    "        \n",
    "if jogador ==\"TESOURA\":\n",
    "    if pc==\"PAPEL\":\n",
    "        print(\"\\nO jogador venceu o computador! \\n\\033[1mPARABÉNS!\")\n",
    "    elif pc==\"PEDRA\":\n",
    "        print(\"\\n\\033[1;31mO computador venceu o jogo!\")\n",
    "        \n",
    "if jogador ==\"PAPEL\":\n",
    "    if pc==\"PEDRA\":\n",
    "        print(\"\\nO jogador venceu o computador! \\n\\033[1mPARABÉNS!\")\n",
    "    elif pc==\"TESOURA\":\n",
    "        print(\"\\n\\033[1;31mO computador venceu o jogo!\")\n",
    "    "
   ]
  },
  {
   "cell_type": "code",
   "execution_count": null,
   "id": "cc307f22",
   "metadata": {},
   "outputs": [],
   "source": []
  },
  {
   "cell_type": "code",
   "execution_count": null,
   "id": "0b0dfd62",
   "metadata": {},
   "outputs": [],
   "source": []
  },
  {
   "cell_type": "code",
   "execution_count": null,
   "id": "f75d436f",
   "metadata": {},
   "outputs": [],
   "source": []
  }
 ],
 "metadata": {
  "kernelspec": {
   "display_name": "Python 3 (ipykernel)",
   "language": "python",
   "name": "python3"
  },
  "language_info": {
   "codemirror_mode": {
    "name": "ipython",
    "version": 3
   },
   "file_extension": ".py",
   "mimetype": "text/x-python",
   "name": "python",
   "nbconvert_exporter": "python",
   "pygments_lexer": "ipython3",
   "version": "3.9.13"
  }
 },
 "nbformat": 4,
 "nbformat_minor": 5
}

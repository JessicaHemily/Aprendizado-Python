{
 "cells": [
  {
   "cell_type": "markdown",
   "id": "dcbd2c0d",
   "metadata": {},
   "source": [
    "# Análise de dados - Pokemon\n",
    "\n",
    "Fonte de dados: https://github.com/KeithGalli/pandas\n"
   ]
  },
  {
   "cell_type": "markdown",
   "id": "459911bf",
   "metadata": {},
   "source": [
    "# Questões:\n",
    "\n",
    "1. Quantos pokemons existem (segundo a base de dados)?\n",
    "1. Quantos tipos primários e secundários de poder existem?\n",
    "1. Qual tipo primário e secundário possuem mais pokemons?\n",
    "1. Quantas gerações existem?\n",
    "1. Qual geração possui mais pokemons?\n",
    "1. Qual ou quais pokemons possuem a maior nota de Attack?\n",
    "1. Qual ou quais pokemons possuem a MAIOR somatória de Attack e Defense?\n",
    "    1. Qual o top 3 pokemons, considerando a soma das notas de Attack e Defense?\n",
    "1. Qual ou quais pokemons possuem a MENOR somatória de Attack e Defense?\n",
    "    1. Qual os 3 mais inferiores pokemons, considerando a soma das notas de Attack e Defense?\n",
    "1. Quais os pokemons legendários? Quantos são?\n",
    "1. Quantos pokemons possuem mais de 1 tipo de poder?"
   ]
  },
  {
   "cell_type": "code",
   "execution_count": 1,
   "id": "243f2d5e",
   "metadata": {},
   "outputs": [],
   "source": [
    "import pandas as pd"
   ]
  },
  {
   "cell_type": "code",
   "execution_count": 2,
   "id": "50c0c9a2",
   "metadata": {},
   "outputs": [
    {
     "data": {
      "text/html": [
       "<div>\n",
       "<style scoped>\n",
       "    .dataframe tbody tr th:only-of-type {\n",
       "        vertical-align: middle;\n",
       "    }\n",
       "\n",
       "    .dataframe tbody tr th {\n",
       "        vertical-align: top;\n",
       "    }\n",
       "\n",
       "    .dataframe thead th {\n",
       "        text-align: right;\n",
       "    }\n",
       "</style>\n",
       "<table border=\"1\" class=\"dataframe\">\n",
       "  <thead>\n",
       "    <tr style=\"text-align: right;\">\n",
       "      <th></th>\n",
       "      <th>#</th>\n",
       "      <th>Name</th>\n",
       "      <th>Type 1</th>\n",
       "      <th>Type 2</th>\n",
       "      <th>HP</th>\n",
       "      <th>Attack</th>\n",
       "      <th>Defense</th>\n",
       "      <th>Sp. Atk</th>\n",
       "      <th>Sp. Def</th>\n",
       "      <th>Speed</th>\n",
       "      <th>Generation</th>\n",
       "      <th>Legendary</th>\n",
       "    </tr>\n",
       "  </thead>\n",
       "  <tbody>\n",
       "    <tr>\n",
       "      <th>0</th>\n",
       "      <td>1</td>\n",
       "      <td>Bulbasaur</td>\n",
       "      <td>Grass</td>\n",
       "      <td>Poison</td>\n",
       "      <td>45</td>\n",
       "      <td>49</td>\n",
       "      <td>49</td>\n",
       "      <td>65</td>\n",
       "      <td>65</td>\n",
       "      <td>45</td>\n",
       "      <td>1</td>\n",
       "      <td>False</td>\n",
       "    </tr>\n",
       "    <tr>\n",
       "      <th>1</th>\n",
       "      <td>2</td>\n",
       "      <td>Ivysaur</td>\n",
       "      <td>Grass</td>\n",
       "      <td>Poison</td>\n",
       "      <td>60</td>\n",
       "      <td>62</td>\n",
       "      <td>63</td>\n",
       "      <td>80</td>\n",
       "      <td>80</td>\n",
       "      <td>60</td>\n",
       "      <td>1</td>\n",
       "      <td>False</td>\n",
       "    </tr>\n",
       "    <tr>\n",
       "      <th>2</th>\n",
       "      <td>3</td>\n",
       "      <td>Venusaur</td>\n",
       "      <td>Grass</td>\n",
       "      <td>Poison</td>\n",
       "      <td>80</td>\n",
       "      <td>82</td>\n",
       "      <td>83</td>\n",
       "      <td>100</td>\n",
       "      <td>100</td>\n",
       "      <td>80</td>\n",
       "      <td>1</td>\n",
       "      <td>False</td>\n",
       "    </tr>\n",
       "    <tr>\n",
       "      <th>3</th>\n",
       "      <td>3</td>\n",
       "      <td>VenusaurMega Venusaur</td>\n",
       "      <td>Grass</td>\n",
       "      <td>Poison</td>\n",
       "      <td>80</td>\n",
       "      <td>100</td>\n",
       "      <td>123</td>\n",
       "      <td>122</td>\n",
       "      <td>120</td>\n",
       "      <td>80</td>\n",
       "      <td>1</td>\n",
       "      <td>False</td>\n",
       "    </tr>\n",
       "    <tr>\n",
       "      <th>4</th>\n",
       "      <td>4</td>\n",
       "      <td>Charmander</td>\n",
       "      <td>Fire</td>\n",
       "      <td>NaN</td>\n",
       "      <td>39</td>\n",
       "      <td>52</td>\n",
       "      <td>43</td>\n",
       "      <td>60</td>\n",
       "      <td>50</td>\n",
       "      <td>65</td>\n",
       "      <td>1</td>\n",
       "      <td>False</td>\n",
       "    </tr>\n",
       "  </tbody>\n",
       "</table>\n",
       "</div>"
      ],
      "text/plain": [
       "   #                   Name Type 1  Type 2  HP  Attack  Defense  Sp. Atk  \\\n",
       "0  1              Bulbasaur  Grass  Poison  45      49       49       65   \n",
       "1  2                Ivysaur  Grass  Poison  60      62       63       80   \n",
       "2  3               Venusaur  Grass  Poison  80      82       83      100   \n",
       "3  3  VenusaurMega Venusaur  Grass  Poison  80     100      123      122   \n",
       "4  4             Charmander   Fire     NaN  39      52       43       60   \n",
       "\n",
       "   Sp. Def  Speed  Generation  Legendary  \n",
       "0       65     45           1      False  \n",
       "1       80     60           1      False  \n",
       "2      100     80           1      False  \n",
       "3      120     80           1      False  \n",
       "4       50     65           1      False  "
      ]
     },
     "execution_count": 2,
     "metadata": {},
     "output_type": "execute_result"
    }
   ],
   "source": [
    "df = pd.read_csv('pokemon.csv')\n",
    "df.head()"
   ]
  },
  {
   "cell_type": "markdown",
   "id": "e0928a18",
   "metadata": {},
   "source": [
    "## 1 - Quantos pokemons existem?"
   ]
  },
  {
   "cell_type": "code",
   "execution_count": 22,
   "id": "f531666e",
   "metadata": {},
   "outputs": [
    {
     "data": {
      "text/plain": [
       "count    800.000000\n",
       "mean     362.813750\n",
       "std      208.343798\n",
       "min        1.000000\n",
       "25%      184.750000\n",
       "50%      364.500000\n",
       "75%      539.250000\n",
       "max      721.000000\n",
       "Name: #, dtype: float64"
      ]
     },
     "execution_count": 22,
     "metadata": {},
     "output_type": "execute_result"
    }
   ],
   "source": [
    "df['#'].describe()"
   ]
  },
  {
   "cell_type": "code",
   "execution_count": 3,
   "id": "75e51816",
   "metadata": {},
   "outputs": [
    {
     "name": "stdout",
     "output_type": "stream",
     "text": [
      "Existem 800 pokemons segundo essa base de dados.\n"
     ]
    }
   ],
   "source": [
    "quant = df['#'].count()\n",
    "print(f\"Existem {quant} pokemons segundo essa base de dados.\")\n"
   ]
  },
  {
   "cell_type": "markdown",
   "id": "df1dadff",
   "metadata": {},
   "source": [
    "## 2 - Quantos tipos primários e secundários de poder existem?"
   ]
  },
  {
   "cell_type": "code",
   "execution_count": 4,
   "id": "4be3007f",
   "metadata": {},
   "outputs": [
    {
     "name": "stdout",
     "output_type": "stream",
     "text": [
      "Existem 18 tipos primários de poder.\n"
     ]
    }
   ],
   "source": [
    "tipo_1 = df['Type 1'].nunique()\n",
    "print(f\"Existem {tipo_1} tipos primários de poder.\")"
   ]
  },
  {
   "cell_type": "code",
   "execution_count": 5,
   "id": "0c451b76",
   "metadata": {},
   "outputs": [
    {
     "name": "stdout",
     "output_type": "stream",
     "text": [
      "Existem 18 tipos secundários de poder.\n"
     ]
    }
   ],
   "source": [
    "tipo_2 = df['Type 2'].nunique()\n",
    "print(f\"Existem {tipo_2} tipos secundários de poder.\")"
   ]
  },
  {
   "cell_type": "markdown",
   "id": "fb62a139",
   "metadata": {},
   "source": [
    "## 3 - Qual tipo primário e secundário possuem mais pokemons?"
   ]
  },
  {
   "cell_type": "markdown",
   "id": "1ea04697",
   "metadata": {},
   "source": [
    "Tipo Primário:"
   ]
  },
  {
   "cell_type": "code",
   "execution_count": 6,
   "id": "16371737",
   "metadata": {},
   "outputs": [
    {
     "data": {
      "text/plain": [
       "Water       112\n",
       "Normal       98\n",
       "Grass        70\n",
       "Bug          69\n",
       "Psychic      57\n",
       "Fire         52\n",
       "Electric     44\n",
       "Rock         44\n",
       "Dragon       32\n",
       "Ground       32\n",
       "Ghost        32\n",
       "Dark         31\n",
       "Poison       28\n",
       "Steel        27\n",
       "Fighting     27\n",
       "Ice          24\n",
       "Fairy        17\n",
       "Flying        4\n",
       "Name: Type 1, dtype: int64"
      ]
     },
     "execution_count": 6,
     "metadata": {},
     "output_type": "execute_result"
    }
   ],
   "source": [
    "df_t1 = df['Type 1'].value_counts()\n",
    "df_t1"
   ]
  },
  {
   "cell_type": "code",
   "execution_count": 7,
   "id": "06ac4dfe",
   "metadata": {},
   "outputs": [
    {
     "name": "stdout",
     "output_type": "stream",
     "text": [
      "O tipo primário \u001b[1mWATER\u001b[m possui maior número de usuários pokemons.\n"
     ]
    }
   ],
   "source": [
    "t1 = df['Type 1'].mode()[0].upper()\n",
    "print(f\"O tipo primário \\033[1m{t1}\\033[m possui maior número de usuários pokemons.\")"
   ]
  },
  {
   "cell_type": "markdown",
   "id": "31d91665",
   "metadata": {},
   "source": [
    "Tipo Secundário:"
   ]
  },
  {
   "cell_type": "code",
   "execution_count": 8,
   "id": "78bd6e3b",
   "metadata": {},
   "outputs": [
    {
     "name": "stdout",
     "output_type": "stream",
     "text": [
      "O tipo secundário \u001b[1mFLYING\u001b[m possui maior número de usuários pokemons.\n"
     ]
    }
   ],
   "source": [
    "t2 = df['Type 2'].mode()[0].upper()\n",
    "print(f\"O tipo secundário \\033[1m{t2}\\033[m possui maior número de usuários pokemons.\")"
   ]
  },
  {
   "cell_type": "markdown",
   "id": "da2a7288",
   "metadata": {},
   "source": [
    "## 4 - Quantas gerações existem?"
   ]
  },
  {
   "cell_type": "code",
   "execution_count": 9,
   "id": "aeaa27a9",
   "metadata": {},
   "outputs": [
    {
     "name": "stdout",
     "output_type": "stream",
     "text": [
      "Existem \u001b[1m6\u001b[m gerações.\n"
     ]
    }
   ],
   "source": [
    "n_g = df[\"Generation\"].nunique()\n",
    "print(f\"Existem \\033[1m{n_g}\\033[m gerações.\")"
   ]
  },
  {
   "cell_type": "markdown",
   "id": "304486cc",
   "metadata": {},
   "source": [
    "## 5 - Qual geração possui mais pokemons?"
   ]
  },
  {
   "cell_type": "code",
   "execution_count": 10,
   "id": "4524f606",
   "metadata": {},
   "outputs": [
    {
     "data": {
      "text/plain": [
       "1    166\n",
       "5    165\n",
       "3    160\n",
       "4    121\n",
       "2    106\n",
       "6     82\n",
       "Name: Generation, dtype: int64"
      ]
     },
     "execution_count": 10,
     "metadata": {},
     "output_type": "execute_result"
    }
   ],
   "source": [
    "df[\"Generation\"].value_counts()"
   ]
  },
  {
   "cell_type": "code",
   "execution_count": 11,
   "id": "7c0c622b",
   "metadata": {},
   "outputs": [
    {
     "name": "stdout",
     "output_type": "stream",
     "text": [
      "A geração que mais possui pokemons é a \u001b[1m1°\n"
     ]
    }
   ],
   "source": [
    "r5 = df[\"Generation\"].mode()[0]\n",
    "print(f\"A geração que mais possui pokemons é a \\033[1m{r5}°\")"
   ]
  },
  {
   "cell_type": "markdown",
   "id": "6d6dbacd",
   "metadata": {},
   "source": [
    "## 6 - Qual ou quais pokemons possuem a maior nota de Attack?"
   ]
  },
  {
   "cell_type": "code",
   "execution_count": 12,
   "id": "1cf103aa",
   "metadata": {},
   "outputs": [
    {
     "data": {
      "text/html": [
       "<div>\n",
       "<style scoped>\n",
       "    .dataframe tbody tr th:only-of-type {\n",
       "        vertical-align: middle;\n",
       "    }\n",
       "\n",
       "    .dataframe tbody tr th {\n",
       "        vertical-align: top;\n",
       "    }\n",
       "\n",
       "    .dataframe thead th {\n",
       "        text-align: right;\n",
       "    }\n",
       "</style>\n",
       "<table border=\"1\" class=\"dataframe\">\n",
       "  <thead>\n",
       "    <tr style=\"text-align: right;\">\n",
       "      <th></th>\n",
       "      <th>#</th>\n",
       "      <th>Name</th>\n",
       "      <th>Type 1</th>\n",
       "      <th>Type 2</th>\n",
       "      <th>HP</th>\n",
       "      <th>Attack</th>\n",
       "      <th>Defense</th>\n",
       "      <th>Sp. Atk</th>\n",
       "      <th>Sp. Def</th>\n",
       "      <th>Speed</th>\n",
       "      <th>Generation</th>\n",
       "      <th>Legendary</th>\n",
       "    </tr>\n",
       "  </thead>\n",
       "  <tbody>\n",
       "    <tr>\n",
       "      <th>163</th>\n",
       "      <td>150</td>\n",
       "      <td>MewtwoMega Mewtwo X</td>\n",
       "      <td>Psychic</td>\n",
       "      <td>Fighting</td>\n",
       "      <td>106</td>\n",
       "      <td>190</td>\n",
       "      <td>100</td>\n",
       "      <td>154</td>\n",
       "      <td>100</td>\n",
       "      <td>130</td>\n",
       "      <td>1</td>\n",
       "      <td>True</td>\n",
       "    </tr>\n",
       "  </tbody>\n",
       "</table>\n",
       "</div>"
      ],
      "text/plain": [
       "       #                 Name   Type 1    Type 2   HP  Attack  Defense  \\\n",
       "163  150  MewtwoMega Mewtwo X  Psychic  Fighting  106     190      100   \n",
       "\n",
       "     Sp. Atk  Sp. Def  Speed  Generation  Legendary  \n",
       "163      154      100    130           1       True  "
      ]
     },
     "execution_count": 12,
     "metadata": {},
     "output_type": "execute_result"
    }
   ],
   "source": [
    "max_attack = df[\"Attack\"].max()\n",
    "df_max = df[df[\"Attack\"]== max_attack]\n",
    "df_max"
   ]
  },
  {
   "cell_type": "markdown",
   "id": "817977b4",
   "metadata": {},
   "source": [
    "Qual ou quais pokemons possuem a menor nota de attack?"
   ]
  },
  {
   "cell_type": "code",
   "execution_count": 13,
   "id": "b0c679a1",
   "metadata": {},
   "outputs": [
    {
     "data": {
      "text/html": [
       "<div>\n",
       "<style scoped>\n",
       "    .dataframe tbody tr th:only-of-type {\n",
       "        vertical-align: middle;\n",
       "    }\n",
       "\n",
       "    .dataframe tbody tr th {\n",
       "        vertical-align: top;\n",
       "    }\n",
       "\n",
       "    .dataframe thead th {\n",
       "        text-align: right;\n",
       "    }\n",
       "</style>\n",
       "<table border=\"1\" class=\"dataframe\">\n",
       "  <thead>\n",
       "    <tr style=\"text-align: right;\">\n",
       "      <th></th>\n",
       "      <th>#</th>\n",
       "      <th>Name</th>\n",
       "      <th>Type 1</th>\n",
       "      <th>Type 2</th>\n",
       "      <th>HP</th>\n",
       "      <th>Attack</th>\n",
       "      <th>Defense</th>\n",
       "      <th>Sp. Atk</th>\n",
       "      <th>Sp. Def</th>\n",
       "      <th>Speed</th>\n",
       "      <th>Generation</th>\n",
       "      <th>Legendary</th>\n",
       "    </tr>\n",
       "  </thead>\n",
       "  <tbody>\n",
       "    <tr>\n",
       "      <th>121</th>\n",
       "      <td>113</td>\n",
       "      <td>Chansey</td>\n",
       "      <td>Normal</td>\n",
       "      <td>NaN</td>\n",
       "      <td>250</td>\n",
       "      <td>5</td>\n",
       "      <td>5</td>\n",
       "      <td>35</td>\n",
       "      <td>105</td>\n",
       "      <td>50</td>\n",
       "      <td>1</td>\n",
       "      <td>False</td>\n",
       "    </tr>\n",
       "    <tr>\n",
       "      <th>488</th>\n",
       "      <td>440</td>\n",
       "      <td>Happiny</td>\n",
       "      <td>Normal</td>\n",
       "      <td>NaN</td>\n",
       "      <td>100</td>\n",
       "      <td>5</td>\n",
       "      <td>5</td>\n",
       "      <td>15</td>\n",
       "      <td>65</td>\n",
       "      <td>30</td>\n",
       "      <td>4</td>\n",
       "      <td>False</td>\n",
       "    </tr>\n",
       "  </tbody>\n",
       "</table>\n",
       "</div>"
      ],
      "text/plain": [
       "       #     Name  Type 1 Type 2   HP  Attack  Defense  Sp. Atk  Sp. Def  \\\n",
       "121  113  Chansey  Normal    NaN  250       5        5       35      105   \n",
       "488  440  Happiny  Normal    NaN  100       5        5       15       65   \n",
       "\n",
       "     Speed  Generation  Legendary  \n",
       "121     50           1      False  \n",
       "488     30           4      False  "
      ]
     },
     "execution_count": 13,
     "metadata": {},
     "output_type": "execute_result"
    }
   ],
   "source": [
    "min_attack = df[\"Attack\"].min()\n",
    "df_min = df[df[\"Attack\"] == min_attack]\n",
    "df_min"
   ]
  },
  {
   "cell_type": "markdown",
   "id": "a0f53edc",
   "metadata": {},
   "source": [
    "## 7 - Qual ou quais pokemons possuem a MAIOR somatória de Attack e Defense?\n",
    "Qual o top 3 pokemons, considerando a soma das notas de Attack e Defense?"
   ]
  },
  {
   "cell_type": "code",
   "execution_count": 14,
   "id": "ce00a7a2",
   "metadata": {},
   "outputs": [
    {
     "data": {
      "text/html": [
       "<div>\n",
       "<style scoped>\n",
       "    .dataframe tbody tr th:only-of-type {\n",
       "        vertical-align: middle;\n",
       "    }\n",
       "\n",
       "    .dataframe tbody tr th {\n",
       "        vertical-align: top;\n",
       "    }\n",
       "\n",
       "    .dataframe thead th {\n",
       "        text-align: right;\n",
       "    }\n",
       "</style>\n",
       "<table border=\"1\" class=\"dataframe\">\n",
       "  <thead>\n",
       "    <tr style=\"text-align: right;\">\n",
       "      <th></th>\n",
       "      <th>name</th>\n",
       "      <th>soma_attack_defense</th>\n",
       "    </tr>\n",
       "  </thead>\n",
       "  <tbody>\n",
       "    <tr>\n",
       "      <th>0</th>\n",
       "      <td>Bulbasaur</td>\n",
       "      <td>98</td>\n",
       "    </tr>\n",
       "    <tr>\n",
       "      <th>1</th>\n",
       "      <td>Ivysaur</td>\n",
       "      <td>125</td>\n",
       "    </tr>\n",
       "    <tr>\n",
       "      <th>2</th>\n",
       "      <td>Venusaur</td>\n",
       "      <td>165</td>\n",
       "    </tr>\n",
       "    <tr>\n",
       "      <th>3</th>\n",
       "      <td>VenusaurMega Venusaur</td>\n",
       "      <td>223</td>\n",
       "    </tr>\n",
       "    <tr>\n",
       "      <th>4</th>\n",
       "      <td>Charmander</td>\n",
       "      <td>95</td>\n",
       "    </tr>\n",
       "    <tr>\n",
       "      <th>...</th>\n",
       "      <td>...</td>\n",
       "      <td>...</td>\n",
       "    </tr>\n",
       "    <tr>\n",
       "      <th>795</th>\n",
       "      <td>Diancie</td>\n",
       "      <td>250</td>\n",
       "    </tr>\n",
       "    <tr>\n",
       "      <th>796</th>\n",
       "      <td>DiancieMega Diancie</td>\n",
       "      <td>270</td>\n",
       "    </tr>\n",
       "    <tr>\n",
       "      <th>797</th>\n",
       "      <td>HoopaHoopa Confined</td>\n",
       "      <td>170</td>\n",
       "    </tr>\n",
       "    <tr>\n",
       "      <th>798</th>\n",
       "      <td>HoopaHoopa Unbound</td>\n",
       "      <td>220</td>\n",
       "    </tr>\n",
       "    <tr>\n",
       "      <th>799</th>\n",
       "      <td>Volcanion</td>\n",
       "      <td>230</td>\n",
       "    </tr>\n",
       "  </tbody>\n",
       "</table>\n",
       "<p>800 rows × 2 columns</p>\n",
       "</div>"
      ],
      "text/plain": [
       "                      name  soma_attack_defense\n",
       "0                Bulbasaur                   98\n",
       "1                  Ivysaur                  125\n",
       "2                 Venusaur                  165\n",
       "3    VenusaurMega Venusaur                  223\n",
       "4               Charmander                   95\n",
       "..                     ...                  ...\n",
       "795                Diancie                  250\n",
       "796    DiancieMega Diancie                  270\n",
       "797    HoopaHoopa Confined                  170\n",
       "798     HoopaHoopa Unbound                  220\n",
       "799              Volcanion                  230\n",
       "\n",
       "[800 rows x 2 columns]"
      ]
     },
     "execution_count": 14,
     "metadata": {},
     "output_type": "execute_result"
    }
   ],
   "source": [
    "df7 = pd.DataFrame()\n",
    "df7[\"name\"] = df[\"Name\"]\n",
    "df7[\"soma_attack_defense\"] = df['Attack'] + df['Defense'] \n",
    "df7"
   ]
  },
  {
   "cell_type": "code",
   "execution_count": 15,
   "id": "923c2eb3",
   "metadata": {},
   "outputs": [
    {
     "name": "stdout",
     "output_type": "stream",
     "text": [
      "\u001b[1m Os 3 Pokemons com maior somatório das notas de attack e defense são:\n"
     ]
    },
    {
     "data": {
      "text/html": [
       "<div>\n",
       "<style scoped>\n",
       "    .dataframe tbody tr th:only-of-type {\n",
       "        vertical-align: middle;\n",
       "    }\n",
       "\n",
       "    .dataframe tbody tr th {\n",
       "        vertical-align: top;\n",
       "    }\n",
       "\n",
       "    .dataframe thead th {\n",
       "        text-align: right;\n",
       "    }\n",
       "</style>\n",
       "<table border=\"1\" class=\"dataframe\">\n",
       "  <thead>\n",
       "    <tr style=\"text-align: right;\">\n",
       "      <th></th>\n",
       "      <th>name</th>\n",
       "      <th>soma_attack_defense</th>\n",
       "    </tr>\n",
       "  </thead>\n",
       "  <tbody>\n",
       "    <tr>\n",
       "      <th>333</th>\n",
       "      <td>AggronMega Aggron</td>\n",
       "      <td>370</td>\n",
       "    </tr>\n",
       "    <tr>\n",
       "      <th>224</th>\n",
       "      <td>SteelixMega Steelix</td>\n",
       "      <td>355</td>\n",
       "    </tr>\n",
       "    <tr>\n",
       "      <th>424</th>\n",
       "      <td>GroudonPrimal Groudon</td>\n",
       "      <td>340</td>\n",
       "    </tr>\n",
       "  </tbody>\n",
       "</table>\n",
       "</div>"
      ],
      "text/plain": [
       "                      name  soma_attack_defense\n",
       "333      AggronMega Aggron                  370\n",
       "224    SteelixMega Steelix                  355\n",
       "424  GroudonPrimal Groudon                  340"
      ]
     },
     "execution_count": 15,
     "metadata": {},
     "output_type": "execute_result"
    }
   ],
   "source": [
    "top3 = df7.nlargest(3,\"soma_attack_defense\")\n",
    "print(\"\\033[1m Os 3 Pokemons com maior somatório das notas de attack e defense são:\")\n",
    "top3"
   ]
  },
  {
   "cell_type": "markdown",
   "id": "5a141f6a",
   "metadata": {},
   "source": [
    "## 8 - Qual ou quais pokemons possuem a MENOR somatória de Attack e Defense?\n",
    "Qual os 3 mais inferiores pokemons, considerando a soma das notas de Attack e Defense?"
   ]
  },
  {
   "cell_type": "code",
   "execution_count": 16,
   "id": "86f567ee",
   "metadata": {},
   "outputs": [
    {
     "name": "stdout",
     "output_type": "stream",
     "text": [
      "\u001b[1m Os 3 Pokemons com menor somatório das notas de attack e defense são:\n"
     ]
    },
    {
     "data": {
      "text/html": [
       "<div>\n",
       "<style scoped>\n",
       "    .dataframe tbody tr th:only-of-type {\n",
       "        vertical-align: middle;\n",
       "    }\n",
       "\n",
       "    .dataframe tbody tr th {\n",
       "        vertical-align: top;\n",
       "    }\n",
       "\n",
       "    .dataframe thead th {\n",
       "        text-align: right;\n",
       "    }\n",
       "</style>\n",
       "<table border=\"1\" class=\"dataframe\">\n",
       "  <thead>\n",
       "    <tr style=\"text-align: right;\">\n",
       "      <th></th>\n",
       "      <th>name</th>\n",
       "      <th>soma_attack_defense</th>\n",
       "    </tr>\n",
       "  </thead>\n",
       "  <tbody>\n",
       "    <tr>\n",
       "      <th>121</th>\n",
       "      <td>Chansey</td>\n",
       "      <td>10</td>\n",
       "    </tr>\n",
       "    <tr>\n",
       "      <th>488</th>\n",
       "      <td>Happiny</td>\n",
       "      <td>10</td>\n",
       "    </tr>\n",
       "    <tr>\n",
       "      <th>261</th>\n",
       "      <td>Blissey</td>\n",
       "      <td>20</td>\n",
       "    </tr>\n",
       "  </tbody>\n",
       "</table>\n",
       "</div>"
      ],
      "text/plain": [
       "        name  soma_attack_defense\n",
       "121  Chansey                   10\n",
       "488  Happiny                   10\n",
       "261  Blissey                   20"
      ]
     },
     "execution_count": 16,
     "metadata": {},
     "output_type": "execute_result"
    }
   ],
   "source": [
    "inf3 = df7.nsmallest(3,'soma_attack_defense')\n",
    "print(\"\\033[1m Os 3 Pokemons com menor somatório das notas de attack e defense são:\")\n",
    "inf3"
   ]
  },
  {
   "cell_type": "markdown",
   "id": "14ccff21",
   "metadata": {},
   "source": [
    "## 9 - Quais os pokemons legendários? Quantos são?"
   ]
  },
  {
   "cell_type": "code",
   "execution_count": 17,
   "id": "f4b90c33",
   "metadata": {},
   "outputs": [
    {
     "name": "stdout",
     "output_type": "stream",
     "text": [
      "\u001b[1mPokemons legendários:\n"
     ]
    },
    {
     "data": {
      "text/html": [
       "<div>\n",
       "<style scoped>\n",
       "    .dataframe tbody tr th:only-of-type {\n",
       "        vertical-align: middle;\n",
       "    }\n",
       "\n",
       "    .dataframe tbody tr th {\n",
       "        vertical-align: top;\n",
       "    }\n",
       "\n",
       "    .dataframe thead th {\n",
       "        text-align: right;\n",
       "    }\n",
       "</style>\n",
       "<table border=\"1\" class=\"dataframe\">\n",
       "  <thead>\n",
       "    <tr style=\"text-align: right;\">\n",
       "      <th></th>\n",
       "      <th>#</th>\n",
       "      <th>Name</th>\n",
       "      <th>Type 1</th>\n",
       "      <th>Type 2</th>\n",
       "      <th>HP</th>\n",
       "      <th>Attack</th>\n",
       "      <th>Defense</th>\n",
       "      <th>Sp. Atk</th>\n",
       "      <th>Sp. Def</th>\n",
       "      <th>Speed</th>\n",
       "      <th>Generation</th>\n",
       "      <th>Legendary</th>\n",
       "    </tr>\n",
       "  </thead>\n",
       "  <tbody>\n",
       "    <tr>\n",
       "      <th>156</th>\n",
       "      <td>144</td>\n",
       "      <td>Articuno</td>\n",
       "      <td>Ice</td>\n",
       "      <td>Flying</td>\n",
       "      <td>90</td>\n",
       "      <td>85</td>\n",
       "      <td>100</td>\n",
       "      <td>95</td>\n",
       "      <td>125</td>\n",
       "      <td>85</td>\n",
       "      <td>1</td>\n",
       "      <td>True</td>\n",
       "    </tr>\n",
       "    <tr>\n",
       "      <th>157</th>\n",
       "      <td>145</td>\n",
       "      <td>Zapdos</td>\n",
       "      <td>Electric</td>\n",
       "      <td>Flying</td>\n",
       "      <td>90</td>\n",
       "      <td>90</td>\n",
       "      <td>85</td>\n",
       "      <td>125</td>\n",
       "      <td>90</td>\n",
       "      <td>100</td>\n",
       "      <td>1</td>\n",
       "      <td>True</td>\n",
       "    </tr>\n",
       "    <tr>\n",
       "      <th>158</th>\n",
       "      <td>146</td>\n",
       "      <td>Moltres</td>\n",
       "      <td>Fire</td>\n",
       "      <td>Flying</td>\n",
       "      <td>90</td>\n",
       "      <td>100</td>\n",
       "      <td>90</td>\n",
       "      <td>125</td>\n",
       "      <td>85</td>\n",
       "      <td>90</td>\n",
       "      <td>1</td>\n",
       "      <td>True</td>\n",
       "    </tr>\n",
       "    <tr>\n",
       "      <th>162</th>\n",
       "      <td>150</td>\n",
       "      <td>Mewtwo</td>\n",
       "      <td>Psychic</td>\n",
       "      <td>NaN</td>\n",
       "      <td>106</td>\n",
       "      <td>110</td>\n",
       "      <td>90</td>\n",
       "      <td>154</td>\n",
       "      <td>90</td>\n",
       "      <td>130</td>\n",
       "      <td>1</td>\n",
       "      <td>True</td>\n",
       "    </tr>\n",
       "    <tr>\n",
       "      <th>163</th>\n",
       "      <td>150</td>\n",
       "      <td>MewtwoMega Mewtwo X</td>\n",
       "      <td>Psychic</td>\n",
       "      <td>Fighting</td>\n",
       "      <td>106</td>\n",
       "      <td>190</td>\n",
       "      <td>100</td>\n",
       "      <td>154</td>\n",
       "      <td>100</td>\n",
       "      <td>130</td>\n",
       "      <td>1</td>\n",
       "      <td>True</td>\n",
       "    </tr>\n",
       "    <tr>\n",
       "      <th>...</th>\n",
       "      <td>...</td>\n",
       "      <td>...</td>\n",
       "      <td>...</td>\n",
       "      <td>...</td>\n",
       "      <td>...</td>\n",
       "      <td>...</td>\n",
       "      <td>...</td>\n",
       "      <td>...</td>\n",
       "      <td>...</td>\n",
       "      <td>...</td>\n",
       "      <td>...</td>\n",
       "      <td>...</td>\n",
       "    </tr>\n",
       "    <tr>\n",
       "      <th>795</th>\n",
       "      <td>719</td>\n",
       "      <td>Diancie</td>\n",
       "      <td>Rock</td>\n",
       "      <td>Fairy</td>\n",
       "      <td>50</td>\n",
       "      <td>100</td>\n",
       "      <td>150</td>\n",
       "      <td>100</td>\n",
       "      <td>150</td>\n",
       "      <td>50</td>\n",
       "      <td>6</td>\n",
       "      <td>True</td>\n",
       "    </tr>\n",
       "    <tr>\n",
       "      <th>796</th>\n",
       "      <td>719</td>\n",
       "      <td>DiancieMega Diancie</td>\n",
       "      <td>Rock</td>\n",
       "      <td>Fairy</td>\n",
       "      <td>50</td>\n",
       "      <td>160</td>\n",
       "      <td>110</td>\n",
       "      <td>160</td>\n",
       "      <td>110</td>\n",
       "      <td>110</td>\n",
       "      <td>6</td>\n",
       "      <td>True</td>\n",
       "    </tr>\n",
       "    <tr>\n",
       "      <th>797</th>\n",
       "      <td>720</td>\n",
       "      <td>HoopaHoopa Confined</td>\n",
       "      <td>Psychic</td>\n",
       "      <td>Ghost</td>\n",
       "      <td>80</td>\n",
       "      <td>110</td>\n",
       "      <td>60</td>\n",
       "      <td>150</td>\n",
       "      <td>130</td>\n",
       "      <td>70</td>\n",
       "      <td>6</td>\n",
       "      <td>True</td>\n",
       "    </tr>\n",
       "    <tr>\n",
       "      <th>798</th>\n",
       "      <td>720</td>\n",
       "      <td>HoopaHoopa Unbound</td>\n",
       "      <td>Psychic</td>\n",
       "      <td>Dark</td>\n",
       "      <td>80</td>\n",
       "      <td>160</td>\n",
       "      <td>60</td>\n",
       "      <td>170</td>\n",
       "      <td>130</td>\n",
       "      <td>80</td>\n",
       "      <td>6</td>\n",
       "      <td>True</td>\n",
       "    </tr>\n",
       "    <tr>\n",
       "      <th>799</th>\n",
       "      <td>721</td>\n",
       "      <td>Volcanion</td>\n",
       "      <td>Fire</td>\n",
       "      <td>Water</td>\n",
       "      <td>80</td>\n",
       "      <td>110</td>\n",
       "      <td>120</td>\n",
       "      <td>130</td>\n",
       "      <td>90</td>\n",
       "      <td>70</td>\n",
       "      <td>6</td>\n",
       "      <td>True</td>\n",
       "    </tr>\n",
       "  </tbody>\n",
       "</table>\n",
       "<p>65 rows × 12 columns</p>\n",
       "</div>"
      ],
      "text/plain": [
       "       #                 Name    Type 1    Type 2   HP  Attack  Defense  \\\n",
       "156  144             Articuno       Ice    Flying   90      85      100   \n",
       "157  145               Zapdos  Electric    Flying   90      90       85   \n",
       "158  146              Moltres      Fire    Flying   90     100       90   \n",
       "162  150               Mewtwo   Psychic       NaN  106     110       90   \n",
       "163  150  MewtwoMega Mewtwo X   Psychic  Fighting  106     190      100   \n",
       "..   ...                  ...       ...       ...  ...     ...      ...   \n",
       "795  719              Diancie      Rock     Fairy   50     100      150   \n",
       "796  719  DiancieMega Diancie      Rock     Fairy   50     160      110   \n",
       "797  720  HoopaHoopa Confined   Psychic     Ghost   80     110       60   \n",
       "798  720   HoopaHoopa Unbound   Psychic      Dark   80     160       60   \n",
       "799  721            Volcanion      Fire     Water   80     110      120   \n",
       "\n",
       "     Sp. Atk  Sp. Def  Speed  Generation  Legendary  \n",
       "156       95      125     85           1       True  \n",
       "157      125       90    100           1       True  \n",
       "158      125       85     90           1       True  \n",
       "162      154       90    130           1       True  \n",
       "163      154      100    130           1       True  \n",
       "..       ...      ...    ...         ...        ...  \n",
       "795      100      150     50           6       True  \n",
       "796      160      110    110           6       True  \n",
       "797      150      130     70           6       True  \n",
       "798      170      130     80           6       True  \n",
       "799      130       90     70           6       True  \n",
       "\n",
       "[65 rows x 12 columns]"
      ]
     },
     "execution_count": 17,
     "metadata": {},
     "output_type": "execute_result"
    }
   ],
   "source": [
    "print(\"\\033[1mPokemons legendários:\")\n",
    "df[df[\"Legendary\"]==True]"
   ]
  },
  {
   "cell_type": "code",
   "execution_count": 18,
   "id": "4f296157",
   "metadata": {},
   "outputs": [
    {
     "name": "stdout",
     "output_type": "stream",
     "text": [
      "São \u001b[1m65\u001b[m pokemons legendários.\n"
     ]
    }
   ],
   "source": [
    "legendario = (df[\"Legendary\"]==True).sum()\n",
    "print(f\"São \\033[1m{legendario}\\033[m pokemons legendários.\")"
   ]
  },
  {
   "cell_type": "markdown",
   "id": "3396f73a",
   "metadata": {},
   "source": [
    "## 10 - Quantos pokemons possuem mais de 1 tipo de poder?"
   ]
  },
  {
   "cell_type": "code",
   "execution_count": 19,
   "id": "1b2ec2ff",
   "metadata": {},
   "outputs": [
    {
     "name": "stdout",
     "output_type": "stream",
     "text": [
      "386 pokemons não possuem 2 tipos de poder\n"
     ]
    }
   ],
   "source": [
    "type2_nulo = df[\"Type 2\"].isnull().sum()\n",
    "print(f\"{type2_nulo} pokemons não possuem 2 tipos de poder\")"
   ]
  },
  {
   "cell_type": "code",
   "execution_count": 20,
   "id": "117ccad8",
   "metadata": {},
   "outputs": [
    {
     "name": "stdout",
     "output_type": "stream",
     "text": [
      "414 pokemons possuem 2 tipos de poder.\n"
     ]
    }
   ],
   "source": [
    "contador = 0\n",
    "for valor in df['Type 2']:\n",
    "    if pd.isnull(valor):\n",
    "        cont = 0\n",
    "    else:\n",
    "        contador = contador + 1\n",
    "        \n",
    "print(f\"{contador} pokemons possuem 2 tipos de poder.\")"
   ]
  },
  {
   "cell_type": "code",
   "execution_count": null,
   "id": "a92901aa",
   "metadata": {},
   "outputs": [],
   "source": []
  }
 ],
 "metadata": {
  "kernelspec": {
   "display_name": "Python 3 (ipykernel)",
   "language": "python",
   "name": "python3"
  },
  "language_info": {
   "codemirror_mode": {
    "name": "ipython",
    "version": 3
   },
   "file_extension": ".py",
   "mimetype": "text/x-python",
   "name": "python",
   "nbconvert_exporter": "python",
   "pygments_lexer": "ipython3",
   "version": "3.10.9"
  }
 },
 "nbformat": 4,
 "nbformat_minor": 5
}
